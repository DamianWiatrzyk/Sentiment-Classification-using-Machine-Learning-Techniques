{
  "nbformat": 4,
  "nbformat_minor": 0,
  "metadata": {
    "colab": {
      "name": "Sentiment Classification using Machine Learning Techniques",
      "version": "0.3.2",
      "provenance": [],
      "collapsed_sections": [
        "uZ6eXpGl2WBt",
        "NtF8ipN93JTj",
        "nO7WvVzMYNJI",
        "GGaQUiiqYo9O",
        "tBRjToOfa1FQ",
        "WwkSGwq4aopK",
        "y58sEhgtbMLO",
        "aUhV_baMbatV",
        "C3Hf7M1r3isG",
        "plZ38XRC3zJu",
        "Ng8pGkkw8XB3"
      ]
    },
    "kernelspec": {
      "name": "python3",
      "display_name": "Python 3"
    }
  },
  "cells": [
    {
      "cell_type": "markdown",
      "metadata": {
        "id": "tD-GvSpBxCDj",
        "colab_type": "text"
      },
      "source": [
        "##[Abstract]\n",
        "\n",
        "In this notebook, I decided to recreate the work of Bo Pang, Lillian Lee, and Shivakumar Vaithyanathan. The main goal was to check if using same machine learning methods but with modern libraries we could achieve better performance in sentiment classification.\n",
        "I conclude that modern libraries could give slightly better performance than Pang's team tools.\n",
        "\n",
        "\n",
        "\n"
      ]
    },
    {
      "cell_type": "markdown",
      "metadata": {
        "id": "91oJq77cyui_",
        "colab_type": "text"
      },
      "source": [
        "## [Project Description]\n",
        "I used cleaned dataset consist of 690 positive and 690 negative preprocessed movie reviews as corpus. Like authors, I didn't apply stemming or stoplists.\n",
        "Moreover, I decided to not check top 2633 unigrams and unigrams positioning because these approaches didn't give good results."
      ]
    },
    {
      "cell_type": "markdown",
      "metadata": {
        "id": "z5bI8iYLBEB7",
        "colab_type": "text"
      },
      "source": [
        "##[Libraries]"
      ]
    },
    {
      "cell_type": "code",
      "metadata": {
        "id": "q_e7rSozyvon",
        "colab_type": "code",
        "colab": {}
      },
      "source": [
        "import nltk\n",
        "from nltk import word_tokenize\n",
        "from nltk.util import ngrams\n",
        "from sklearn.model_selection import train_test_split, cross_val_score\n",
        "from sklearn.preprocessing import LabelEncoder\n",
        "from sklearn import model_selection, naive_bayes, svm\n",
        "from sklearn.naive_bayes import MultinomialNB\n",
        "from sklearn.metrics import accuracy_score\n",
        "from sklearn.linear_model import LogisticRegression\n",
        "from sklearn.feature_extraction.text import CountVectorizer\n",
        "import pandas as pd\n",
        "import numpy as np\n",
        "\n",
        "\n",
        "nltk.download('punkt')\n",
        "nltk.download('averaged_perceptron_tagger')\n",
        "nltk.download('all')\n"
      ],
      "execution_count": 0,
      "outputs": []
    },
    {
      "cell_type": "markdown",
      "metadata": {
        "id": "Rylpdsb21Wo_",
        "colab_type": "text"
      },
      "source": [
        "## [Data Loading]\n",
        "Data was downloaded from Cornell University site and due to a different encoding, I processed it to one CSV file and uploaded it to my GitHub."
      ]
    },
    {
      "cell_type": "code",
      "metadata": {
        "id": "g1_euxvq1XQZ",
        "colab_type": "code",
        "colab": {}
      },
      "source": [
        "corpus = pd.read_csv(\"https://raw.githubusercontent.com/DamianWiatrzyk/PangDatasetCorpus/master/corpus.csv\", sep='\\t')"
      ],
      "execution_count": 0,
      "outputs": []
    },
    {
      "cell_type": "markdown",
      "metadata": {
        "id": "Ia6remU_fV7W",
        "colab_type": "text"
      },
      "source": [
        "## [Data Exploration] \n",
        "A quick overview of used corpus."
      ]
    },
    {
      "cell_type": "code",
      "metadata": {
        "id": "DtKopC38PDgl",
        "colab_type": "code",
        "outputId": "3e3ed00b-53d1-4ac0-c970-4f7d3bd7432a",
        "colab": {
          "base_uri": "https://localhost:8080/",
          "height": 34
        }
      },
      "source": [
        "corpus.shape"
      ],
      "execution_count": 3,
      "outputs": [
        {
          "output_type": "execute_result",
          "data": {
            "text/plain": [
              "(1380, 2)"
            ]
          },
          "metadata": {
            "tags": []
          },
          "execution_count": 3
        }
      ]
    },
    {
      "cell_type": "code",
      "metadata": {
        "id": "j7UuNvAgk-xt",
        "colab_type": "code",
        "outputId": "fece6eb6-013d-4062-8d0d-ee45fce3d4cf",
        "colab": {
          "base_uri": "https://localhost:8080/",
          "height": 1092
        }
      },
      "source": [
        "corpus.describe"
      ],
      "execution_count": 4,
      "outputs": [
        {
          "output_type": "execute_result",
          "data": {
            "text/plain": [
              "<bound method NDFrame.describe of                                                document label\n",
              "0     the farrelly brothers' third film , after dumb...   pos\n",
              "1     more movie views by jamey hughton at : http : ...   pos\n",
              "2     if chris farley had strapped some fake mutton-...   pos\n",
              "3     in zoolander , the world's most successful , i...   pos\n",
              "4     if the current trends of hollywood filmmaking ...   pos\n",
              "5     for more reviews and movie trailers , visit ht...   pos\n",
              "6     director : george armitage cast : john cusack ...   pos\n",
              "7     written by : peter wang and shirley sunstarrin...   pos\n",
              "8     if you¹ve been paying attention to the media f...   pos\n",
              "9     director : john sayles || screenplay : john sa...   pos\n",
              "10    starring liam neeson , ewan mcgregor , jake ll...   pos\n",
              "11    one never quite knows what one is going to get...   pos\n",
              "12    an entertaining 2 hours awaits the audience in...   pos\n",
              "13    made ( 2001 ) . starring jon favreau , vince v...   pos\n",
              "14    director :   steven soderbergh cast :   george...   pos\n",
              "15    ultra low budget but extremely inventive horro...   pos\n",
              "16    if you're the type of person who goes on the s...   pos\n",
              "17    release date : january 22 , 1999 starring : em...   pos\n",
              "18    directed by lisa cholodenko . cast : radha mit...   pos\n",
              "19    dawson's creek resident hunk james van der bee...   pos\n",
              "20    `blue streak' , martin lawrence's newest outin...   pos\n",
              "21    now that \" boogie nights \" has made disco resp...   pos\n",
              "22    warning : if you actually wish to see the film...   pos\n",
              "23    back in the days of the roman empire , italian...   pos\n",
              "24    the sixth sense  -a review by bill chambers ( ...   pos\n",
              "25    my filmcritic . com colleague norm schrager na...   pos\n",
              "26    rated on a 4-star scale screening venue : odeo...   pos\n",
              "27    vampire films , as well as other horror films ...   pos\n",
              "28    it's an interesting premise . our reality is o...   pos\n",
              "29    every year around this time , or during the ch...   pos\n",
              "...                                                 ...   ...\n",
              "1350  where the money is , directed by marek kanievs...   neg\n",
              "1351  not to be confused with that bruce willis ghos...   neg\n",
              "1352  john carpenter's ghosts of mars ( 2001 ) ice c...   neg\n",
              "1353  paramount / 2 : 02 / 1997 / r ( violence , lan...   neg\n",
              "1354  directed by neil jordan . cast : eomann owens ...   neg\n",
              "1355  michael richards leaves his spot as kramer on ...   neg\n",
              "1356  directed by bill froehlich . cast : scott jaco...   neg\n",
              "1357  i'm going to keep this one fairly short , folk...   neg\n",
              "1358  i admit it . i thought arnold schwarzenegger h...   neg\n",
              "1359  rated r sony pictures classics starring julian...   neg\n",
              "1360  under any other circumstances , i would not be...   neg\n",
              "1361  if someone had told me that a movie starring r...   neg\n",
              "1362  so ask yourself what \" 8mm \" ( \" eight millime...   neg\n",
              "1363  this is the movie that could single-handedly b...   neg\n",
              "1364  disconnect the phone line . don't accept the c...   neg\n",
              "1365  aspiring broadway composer robert ( aaron will...   neg\n",
              "1366  there are many things that weâve learned fro...   neg\n",
              "1367  imagine watching the superbowl , it's a goal l...   neg\n",
              "1368  director : robert mandel written by : roy frum...   neg\n",
              "1369  and now the high-flying hong kong style of fil...   neg\n",
              "1370  cast : nicolas cage , joaquin phoenix , james ...   neg\n",
              "1371  for more reviews and movie trailers , visit ht...   neg\n",
              "1372  the now-classic video game tomb raider is a ge...   neg\n",
              "1373  starring : william hurt ( prof . john robinson...   neg\n",
              "1374  for more movie reviews and screensavers , visi...   neg\n",
              "1375  ( dreamworks skg ) running time : 2 hours star...   neg\n",
              "1376  one of these days , i'll make good on my promi...   neg\n",
              "1377  scheduled to open on december 20th is the come...   neg\n",
              "1378  * * * warning - the following review contains ...   neg\n",
              "1379  if anyone had been able in 1983 to forsee a la...   neg\n",
              "\n",
              "[1380 rows x 2 columns]>"
            ]
          },
          "metadata": {
            "tags": []
          },
          "execution_count": 4
        }
      ]
    },
    {
      "cell_type": "markdown",
      "metadata": {
        "id": "MwVV-MGG14UL",
        "colab_type": "text"
      },
      "source": [
        "## [Data Preprocessing and Vectorizers]\n",
        "This step was done by Pang's team so I could skip it and prepare vectorizers. Each vectorizer corresponds with different Bag-Of-Features tokenization."
      ]
    },
    {
      "cell_type": "code",
      "metadata": {
        "id": "Cv2rT3Bm06xk",
        "colab_type": "code",
        "colab": {}
      },
      "source": [
        "#returns pos_tagged unigrams\n",
        "def unigram_POS_tokens(docs):\n",
        "  tokens = nltk.word_tokenize(docs)\n",
        "  unigram_POS = nltk.pos_tag(tokens)\n",
        "  return list(unigram_POS)"
      ],
      "execution_count": 0,
      "outputs": []
    },
    {
      "cell_type": "code",
      "metadata": {
        "id": "s5mvdw95BB36",
        "colab_type": "code",
        "colab": {}
      },
      "source": [
        "#returns only pos_tagged adjectives\n",
        "def unigram_adjectives(docs):\n",
        "    tokens = nltk.word_tokenize(docs)\n",
        "    adjectives = list()\n",
        "    for tag in filter(lambda x: x[1] == 'JJ' or x[1] == 'JJS' or x[1] == 'JJR',\n",
        "                      nltk.pos_tag(tokens)):\n",
        "        adjectives.extend([tag[0]])\n",
        "\n",
        "    return adjectives"
      ],
      "execution_count": 0,
      "outputs": []
    },
    {
      "cell_type": "code",
      "metadata": {
        "id": "zlZsLOkx9xi8",
        "colab_type": "code",
        "colab": {}
      },
      "source": [
        "def unigrams_frequency_vectorization(docs):\n",
        "  vectorizer = CountVectorizer(ngram_range=(1, 1), binary=False)\n",
        "  # tokenize and build vocab\n",
        "  vectorizer.fit(docs)\n",
        "  # encode document\n",
        "  vector = vectorizer.transform(docs)\n",
        "  # summarize encoded vector\n",
        "  print('shape: ', vector.shape)\n",
        "  return vector"
      ],
      "execution_count": 0,
      "outputs": []
    },
    {
      "cell_type": "code",
      "metadata": {
        "id": "kHwxuvUJ922l",
        "colab_type": "code",
        "colab": {}
      },
      "source": [
        "def unigrams_presence_vectorization(docs):\n",
        "  vectorizer = CountVectorizer(ngram_range=(1, 1), binary=True)\n",
        "  # tokenize and build vocab\n",
        "  vectorizer.fit(docs)\n",
        "  # encode document\n",
        "  vector = vectorizer.transform(docs)\n",
        "  # summarize encoded vector\n",
        "  print('shape: ', vector.shape)\n",
        "  return vector"
      ],
      "execution_count": 0,
      "outputs": []
    },
    {
      "cell_type": "code",
      "metadata": {
        "id": "U18TZJqZ98bL",
        "colab_type": "code",
        "colab": {}
      },
      "source": [
        "def bigrams_presence_vectorization(docs):\n",
        "  vectorizer = CountVectorizer(ngram_range=(2, 2), binary=True)\n",
        "  # tokenize and build vocab\n",
        "  vectorizer.fit(docs)\n",
        "  # encode document\n",
        "  vector = vectorizer.transform(docs)\n",
        "  # summarize encoded vector\n",
        "  print('shape: ', vector.shape)\n",
        "  return vector"
      ],
      "execution_count": 0,
      "outputs": []
    },
    {
      "cell_type": "code",
      "metadata": {
        "id": "RAqec296-F75",
        "colab_type": "code",
        "colab": {}
      },
      "source": [
        "def unigrams_and_bigrams_presence_vectorization(docs):\n",
        "  vectorizer = CountVectorizer(ngram_range=(1, 2), binary=True)\n",
        "  # tokenize and build vocab\n",
        "  vectorizer.fit(docs)\n",
        "  # encode document\n",
        "  vector = vectorizer.transform(docs)\n",
        "  # summarize encoded vector\n",
        "  print('shape: ', vector.shape)\n",
        "  return vector"
      ],
      "execution_count": 0,
      "outputs": []
    },
    {
      "cell_type": "code",
      "metadata": {
        "id": "4CgWCvsX-Wzi",
        "colab_type": "code",
        "colab": {}
      },
      "source": [
        "def POStagged_unigrams_presence_vectorization(docs):\n",
        "  vectorizer = CountVectorizer(ngram_range=(1, 1), binary=True, tokenizer=unigram_POS_tokens)\n",
        "  # tokenize and build vocab\n",
        "  vectorizer.fit(docs)\n",
        "  # encode document\n",
        "  vector = vectorizer.transform(docs)\n",
        "  # summarize encoded vector\n",
        "  print('shape: ', vector.shape)\n",
        "  return vector"
      ],
      "execution_count": 0,
      "outputs": []
    },
    {
      "cell_type": "code",
      "metadata": {
        "id": "87RsmGpxA4aB",
        "colab_type": "code",
        "colab": {}
      },
      "source": [
        "def POStagged_ajectives_presence_vectorization(docs):\n",
        "  vectorizer = CountVectorizer(ngram_range=(1, 1), binary=True, tokenizer=unigram_adjectives)\n",
        "  # tokenize and build vocab\n",
        "  vectorizer.fit(docs)\n",
        "  # encode document\n",
        "  vector = vectorizer.transform(docs)\n",
        "  # summarize encoded vector\n",
        "  print('shape: ', vector.shape)\n",
        "  return vector"
      ],
      "execution_count": 0,
      "outputs": []
    },
    {
      "cell_type": "markdown",
      "metadata": {
        "id": "uZ6eXpGl2WBt",
        "colab_type": "text"
      },
      "source": [
        "## [Classifiers]"
      ]
    },
    {
      "cell_type": "code",
      "metadata": {
        "id": "P2b6vtcU3ddJ",
        "colab_type": "code",
        "colab": {}
      },
      "source": [
        "#used classifiers\n",
        "multinomialNaiveBayes = clf = MultinomialNB()\n",
        "logReg = LogisticRegression(random_state=0, solver='lbfgs',multi_class='multinomial', max_iter=500)\n",
        "svm = svm.SVC(kernel='linear', C=1)"
      ],
      "execution_count": 0,
      "outputs": []
    },
    {
      "cell_type": "markdown",
      "metadata": {
        "id": "NtF8ipN93JTj",
        "colab_type": "text"
      },
      "source": [
        "## [Training Model]\n",
        "In the next steps, I vectorize data depending on the examined case. Accuracies are average three-fold cross-validation results."
      ]
    },
    {
      "cell_type": "markdown",
      "metadata": {
        "id": "nO7WvVzMYNJI",
        "colab_type": "text"
      },
      "source": [
        "##Accuracies for unigrams(freq.) \n",
        "Please note that in this case, I use feature-count vectors. However, MaxEnt classifier only reflects the\n",
        "presence or absence of a feature, rather than directly incorporating feature frequency.\n",
        "In further cases, binary vectors are applied."
      ]
    },
    {
      "cell_type": "code",
      "metadata": {
        "id": "zSgpv70Lah1v",
        "colab_type": "code",
        "outputId": "7ea8add3-efa3-47fb-8a98-3aee1eafeeca",
        "colab": {
          "base_uri": "https://localhost:8080/",
          "height": 34
        }
      },
      "source": [
        "data=unigrams_frequency_vectorization(corpus['document'])\n",
        "encoder = LabelEncoder()\n",
        "target = encoder.fit_transform(corpus['label'])"
      ],
      "execution_count": 14,
      "outputs": [
        {
          "output_type": "stream",
          "text": [
            "shape:  (1380, 34989)\n"
          ],
          "name": "stdout"
        }
      ]
    },
    {
      "cell_type": "code",
      "metadata": {
        "colab_type": "code",
        "outputId": "cc39686f-7b5f-4ac8-9e97-9f5aa594cab8",
        "id": "Y8avgihhfWll",
        "colab": {
          "base_uri": "https://localhost:8080/",
          "height": 34
        }
      },
      "source": [
        "scoresNB = cross_val_score(multinomialNaiveBayes, data, target, cv=3)\n",
        "print(\"Accuracy for NB: %0.3f (+/- %0.3f)\" % (scoresNB.mean(), scoresNB.std() * 2))"
      ],
      "execution_count": 15,
      "outputs": [
        {
          "output_type": "stream",
          "text": [
            "Accuracy for NB: 0.791 (+/- 0.026)\n"
          ],
          "name": "stdout"
        }
      ]
    },
    {
      "cell_type": "code",
      "metadata": {
        "colab_type": "code",
        "id": "FNl1042GfWlx",
        "outputId": "253bf52e-b84c-449a-c663-268750fdab59",
        "colab": {
          "base_uri": "https://localhost:8080/",
          "height": 34
        }
      },
      "source": [
        "scoresSVM = cross_val_score(svm, data, target, cv=3)\n",
        "print(\"Accuracy for SVM: %0.3f (+/- %0.3f)\" % (scoresSVM.mean(), scoresSVM.std() * 2))"
      ],
      "execution_count": 16,
      "outputs": [
        {
          "output_type": "stream",
          "text": [
            "Accuracy for SVM: 0.794 (+/- 0.008)\n"
          ],
          "name": "stdout"
        }
      ]
    },
    {
      "cell_type": "code",
      "metadata": {
        "id": "nWnN8naWvpvE",
        "colab_type": "code",
        "colab": {}
      },
      "source": [
        "unigrams_frequency_acc={'Features:' : 'unigrams(freq.)', 'NB' : [scoresNB.mean()], 'MaxEnt': [np.nan], 'SVM' : [scoresSVM.mean()]}"
      ],
      "execution_count": 0,
      "outputs": []
    },
    {
      "cell_type": "code",
      "metadata": {
        "id": "E0yTLuqB84ne",
        "colab_type": "code",
        "colab": {}
      },
      "source": [
        "unigrams_frequency_accDF=pd.DataFrame(unigrams_frequency_acc)"
      ],
      "execution_count": 0,
      "outputs": []
    },
    {
      "cell_type": "code",
      "metadata": {
        "id": "Io9QKm63wz0X",
        "colab_type": "code",
        "colab": {}
      },
      "source": [
        "accuracies = pd.DataFrame(unigrams_frequency_accDF, columns=['Features:', 'NB', 'MaxEnt','SVM'])"
      ],
      "execution_count": 0,
      "outputs": []
    },
    {
      "cell_type": "markdown",
      "metadata": {
        "id": "GGaQUiiqYo9O",
        "colab_type": "text"
      },
      "source": [
        "##Accuracies for unigrams(pres.) "
      ]
    },
    {
      "cell_type": "code",
      "metadata": {
        "colab_type": "code",
        "id": "FeeZMzpIYw5_",
        "outputId": "c172bc3d-0fa0-46c4-f1ab-f359cf94b475",
        "colab": {
          "base_uri": "https://localhost:8080/",
          "height": 34
        }
      },
      "source": [
        "data=unigrams_presence_vectorization(corpus['document'])"
      ],
      "execution_count": 20,
      "outputs": [
        {
          "output_type": "stream",
          "text": [
            "shape:  (1380, 34989)\n"
          ],
          "name": "stdout"
        }
      ]
    },
    {
      "cell_type": "code",
      "metadata": {
        "colab_type": "code",
        "id": "oR8JfiVGx0Wq",
        "outputId": "b878f989-5288-4840-d969-8ac00d9611ac",
        "colab": {
          "base_uri": "https://localhost:8080/",
          "height": 34
        }
      },
      "source": [
        "scoresNB = cross_val_score(multinomialNaiveBayes, data, target, cv=3)\n",
        "print(\"Accuracy for NB: %0.3f (+/- %0.3f)\" % (scoresNB.mean(), scoresNB.std() * 2))"
      ],
      "execution_count": 21,
      "outputs": [
        {
          "output_type": "stream",
          "text": [
            "Accuracy for NB: 0.810 (+/- 0.041)\n"
          ],
          "name": "stdout"
        }
      ]
    },
    {
      "cell_type": "code",
      "metadata": {
        "colab_type": "code",
        "id": "9phBZP7Jx0Wf",
        "outputId": "2b552187-e4c6-4b49-a177-3cc791236b94",
        "colab": {
          "base_uri": "https://localhost:8080/",
          "height": 34
        }
      },
      "source": [
        "scoresMaxEnt = cross_val_score(logReg, data, target, cv=3)\n",
        "print(\"Accuracy for MaxEnt: %0.3f (+/- %0.3f)\" % (scoresMaxEnt.mean(), scoresMaxEnt.std() * 2))"
      ],
      "execution_count": 22,
      "outputs": [
        {
          "output_type": "stream",
          "text": [
            "Accuracy for MaxEnt: 0.838 (+/- 0.011)\n"
          ],
          "name": "stdout"
        }
      ]
    },
    {
      "cell_type": "code",
      "metadata": {
        "colab_type": "code",
        "id": "OtM5qljYx0WX",
        "outputId": "300929ec-b6e3-4100-c169-fb17f5a65868",
        "colab": {
          "base_uri": "https://localhost:8080/",
          "height": 34
        }
      },
      "source": [
        "scoresSVM = cross_val_score(svm, data, target, cv=3)\n",
        "print(\"Accuracy for SVM: %0.3f (+/- %0.3f)\" % (scoresSVM.mean(), scoresSVM.std() * 2))"
      ],
      "execution_count": 23,
      "outputs": [
        {
          "output_type": "stream",
          "text": [
            "Accuracy for SVM: 0.831 (+/- 0.026)\n"
          ],
          "name": "stdout"
        }
      ]
    },
    {
      "cell_type": "code",
      "metadata": {
        "colab_type": "code",
        "id": "gVKBGRLpx_uL",
        "colab": {}
      },
      "source": [
        "unigrams_presence_acc={'Features:' : 'unigrams(pres.)', 'NB' : [scoresNB.mean()], 'MaxEnt': [scoresMaxEnt.mean()], 'SVM' : [scoresSVM.mean()]}"
      ],
      "execution_count": 0,
      "outputs": []
    },
    {
      "cell_type": "code",
      "metadata": {
        "id": "_w_MFrQg9BeS",
        "colab_type": "code",
        "colab": {}
      },
      "source": [
        "unigrams_presence_accDF=pd.DataFrame(unigrams_presence_acc)"
      ],
      "execution_count": 0,
      "outputs": []
    },
    {
      "cell_type": "code",
      "metadata": {
        "colab_type": "code",
        "id": "a06k0Ljkx_uN",
        "colab": {}
      },
      "source": [
        "accuracies=accuracies.append(unigrams_presence_accDF, ignore_index=True)"
      ],
      "execution_count": 0,
      "outputs": []
    },
    {
      "cell_type": "markdown",
      "metadata": {
        "colab_type": "text",
        "id": "tBRjToOfa1FQ"
      },
      "source": [
        "##Accuracies for unigrams and bigrams(pres.) "
      ]
    },
    {
      "cell_type": "code",
      "metadata": {
        "colab_type": "code",
        "id": "p1Mxj_bza1FQ",
        "outputId": "895cabb6-d147-4a46-bca9-283690d8809b",
        "colab": {
          "base_uri": "https://localhost:8080/",
          "height": 34
        }
      },
      "source": [
        "data=unigrams_and_bigrams_presence_vectorization(corpus['document'])"
      ],
      "execution_count": 27,
      "outputs": [
        {
          "output_type": "stream",
          "text": [
            "shape:  (1380, 412424)\n"
          ],
          "name": "stdout"
        }
      ]
    },
    {
      "cell_type": "code",
      "metadata": {
        "colab_type": "code",
        "id": "PzaR-5FQYw6F",
        "outputId": "5b2da1ae-edd6-47ef-9749-cb5088d7cd0f",
        "colab": {
          "base_uri": "https://localhost:8080/",
          "height": 34
        }
      },
      "source": [
        "scoresNB = cross_val_score(multinomialNaiveBayes, data, target, cv=3)\n",
        "print(\"Accuracy for NB: %0.3f (+/- %0.3f)\" % (scoresNB.mean(), scoresNB.std() * 2))"
      ],
      "execution_count": 28,
      "outputs": [
        {
          "output_type": "stream",
          "text": [
            "Accuracy for NB: 0.838 (+/- 0.033)\n"
          ],
          "name": "stdout"
        }
      ]
    },
    {
      "cell_type": "code",
      "metadata": {
        "colab_type": "code",
        "id": "z66TSTanYw6I",
        "outputId": "354d32db-e93a-49f7-8e25-8dadd51db6fe",
        "colab": {
          "base_uri": "https://localhost:8080/",
          "height": 34
        }
      },
      "source": [
        "scoresMaxEnt = cross_val_score(logReg, data, target, cv=3)\n",
        "print(\"Accuracy for MaxEnt: %0.3f (+/- %0.3f)\" % (scoresMaxEnt.mean(), scoresMaxEnt.std() * 2))"
      ],
      "execution_count": 29,
      "outputs": [
        {
          "output_type": "stream",
          "text": [
            "Accuracy for MaxEnt: 0.834 (+/- 0.009)\n"
          ],
          "name": "stdout"
        }
      ]
    },
    {
      "cell_type": "code",
      "metadata": {
        "colab_type": "code",
        "id": "GEqqdDXpYw6L",
        "outputId": "c2e5ee28-0630-4930-c7b7-4ad495a5b63c",
        "colab": {
          "base_uri": "https://localhost:8080/",
          "height": 34
        }
      },
      "source": [
        "scoresSVM = cross_val_score(svm, data, target, cv=3)\n",
        "print(\"Accuracy for SVM: %0.3f (+/- %0.3f)\" % (scoresSVM.mean(), scoresSVM.std() * 2))"
      ],
      "execution_count": 30,
      "outputs": [
        {
          "output_type": "stream",
          "text": [
            "Accuracy for SVM: 0.831 (+/- 0.023)\n"
          ],
          "name": "stdout"
        }
      ]
    },
    {
      "cell_type": "code",
      "metadata": {
        "colab_type": "code",
        "id": "vJ1_mYw4yBID",
        "colab": {}
      },
      "source": [
        "unigrams_and_bigrams_presence_acc={'Features:' : 'unigrams and bigrams(pres.) ', 'NB' : [scoresNB.mean()], 'MaxEnt': [scoresMaxEnt.mean()], 'SVM' : [scoresSVM.mean()]}"
      ],
      "execution_count": 0,
      "outputs": []
    },
    {
      "cell_type": "code",
      "metadata": {
        "colab_type": "code",
        "id": "qdE1FFFN9kqj",
        "colab": {}
      },
      "source": [
        "unigrams_and_bigrams_presence_accDF=pd.DataFrame(unigrams_and_bigrams_presence_acc)"
      ],
      "execution_count": 0,
      "outputs": []
    },
    {
      "cell_type": "code",
      "metadata": {
        "colab_type": "code",
        "id": "MDpdDBd49kql",
        "colab": {}
      },
      "source": [
        "accuracies=accuracies.append(unigrams_and_bigrams_presence_accDF, ignore_index=True)"
      ],
      "execution_count": 0,
      "outputs": []
    },
    {
      "cell_type": "markdown",
      "metadata": {
        "colab_type": "text",
        "id": "WwkSGwq4aopK"
      },
      "source": [
        "##Accuracies for bigrams(pres.) "
      ]
    },
    {
      "cell_type": "code",
      "metadata": {
        "colab_type": "code",
        "id": "dOkQyaw4aopL",
        "outputId": "e38e0b5d-2a46-4e80-9a3c-52dc25fefa56",
        "colab": {
          "base_uri": "https://localhost:8080/",
          "height": 34
        }
      },
      "source": [
        "data=bigrams_presence_vectorization(corpus['document'])"
      ],
      "execution_count": 34,
      "outputs": [
        {
          "output_type": "stream",
          "text": [
            "shape:  (1380, 377435)\n"
          ],
          "name": "stdout"
        }
      ]
    },
    {
      "cell_type": "code",
      "metadata": {
        "colab_type": "code",
        "id": "_MX51M-lx4fP",
        "outputId": "4401d177-b358-4b69-86e3-8fa4c8ed9101",
        "colab": {
          "base_uri": "https://localhost:8080/",
          "height": 34
        }
      },
      "source": [
        "scoresNB = cross_val_score(multinomialNaiveBayes, data, target, cv=3)\n",
        "print(\"Accuracy for NB: %0.3f (+/- %0.3f)\" % (scoresNB.mean(), scoresNB.std() * 2))"
      ],
      "execution_count": 35,
      "outputs": [
        {
          "output_type": "stream",
          "text": [
            "Accuracy for NB: 0.825 (+/- 0.009)\n"
          ],
          "name": "stdout"
        }
      ]
    },
    {
      "cell_type": "code",
      "metadata": {
        "colab_type": "code",
        "id": "ssXJzDggx4fR",
        "outputId": "a58a3a2e-8544-4683-eefc-48436f929b1f",
        "colab": {
          "base_uri": "https://localhost:8080/",
          "height": 34
        }
      },
      "source": [
        "scoresMaxEnt = cross_val_score(logReg, data, target, cv=3)\n",
        "print(\"Accuracy for MaxEnt: %0.3f (+/- %0.3f)\" % (scoresMaxEnt.mean(), scoresMaxEnt.std() * 2))"
      ],
      "execution_count": 36,
      "outputs": [
        {
          "output_type": "stream",
          "text": [
            "Accuracy for MaxEnt: 0.804 (+/- 0.020)\n"
          ],
          "name": "stdout"
        }
      ]
    },
    {
      "cell_type": "code",
      "metadata": {
        "colab_type": "code",
        "id": "09d0J1epx4fU",
        "outputId": "d2658e6f-210c-4809-aac2-761c248d21d4",
        "colab": {
          "base_uri": "https://localhost:8080/",
          "height": 34
        }
      },
      "source": [
        "scoresSVM = cross_val_score(svm, data, target, cv=3)\n",
        "print(\"Accuracy for SVM: %0.3f (+/- %0.3f)\" % (scoresSVM.mean(), scoresSVM.std() * 2))"
      ],
      "execution_count": 37,
      "outputs": [
        {
          "output_type": "stream",
          "text": [
            "Accuracy for SVM: 0.801 (+/- 0.014)\n"
          ],
          "name": "stdout"
        }
      ]
    },
    {
      "cell_type": "code",
      "metadata": {
        "colab_type": "code",
        "id": "VQ_SMJceyCAE",
        "colab": {}
      },
      "source": [
        "bigrams_presence_acc={'Features:' : 'bigrams(pres.)', 'NB' : [scoresNB.mean()], 'MaxEnt': [scoresMaxEnt.mean()], 'SVM' : [scoresSVM.mean()]}"
      ],
      "execution_count": 0,
      "outputs": []
    },
    {
      "cell_type": "code",
      "metadata": {
        "colab_type": "code",
        "id": "LVMRVCrD9niL",
        "colab": {}
      },
      "source": [
        "bigrams_presence_accDF=pd.DataFrame(bigrams_presence_acc)"
      ],
      "execution_count": 0,
      "outputs": []
    },
    {
      "cell_type": "code",
      "metadata": {
        "colab_type": "code",
        "id": "NgH9zFV-9niM",
        "colab": {}
      },
      "source": [
        "accuracies=accuracies.append(bigrams_presence_accDF, ignore_index=True)"
      ],
      "execution_count": 0,
      "outputs": []
    },
    {
      "cell_type": "markdown",
      "metadata": {
        "colab_type": "text",
        "id": "y58sEhgtbMLO"
      },
      "source": [
        "##Accuracies for unigrams with POS tagging(pres.) "
      ]
    },
    {
      "cell_type": "code",
      "metadata": {
        "colab_type": "code",
        "id": "c3ugbOIQbMLO",
        "outputId": "f84cbc8a-0ed2-47d4-bd6f-60f1305a35b6",
        "colab": {
          "base_uri": "https://localhost:8080/",
          "height": 34
        }
      },
      "source": [
        "data=POStagged_unigrams_presence_vectorization(corpus['document'])"
      ],
      "execution_count": 41,
      "outputs": [
        {
          "output_type": "stream",
          "text": [
            "shape:  (1380, 57378)\n"
          ],
          "name": "stdout"
        }
      ]
    },
    {
      "cell_type": "code",
      "metadata": {
        "colab_type": "code",
        "id": "TRsbr13Ux6DQ",
        "outputId": "072ec8bf-36f6-4033-b912-59dc889c76bf",
        "colab": {
          "base_uri": "https://localhost:8080/",
          "height": 34
        }
      },
      "source": [
        "scoresNB = cross_val_score(multinomialNaiveBayes, data, target, cv=3)\n",
        "print(\"Accuracy for NB: %0.3f (+/- %0.3f)\" % (scoresNB.mean(), scoresNB.std() * 2))"
      ],
      "execution_count": 42,
      "outputs": [
        {
          "output_type": "stream",
          "text": [
            "Accuracy for NB: 0.811 (+/- 0.039)\n"
          ],
          "name": "stdout"
        }
      ]
    },
    {
      "cell_type": "code",
      "metadata": {
        "colab_type": "code",
        "id": "yekTwQOJx6DS",
        "outputId": "b214084a-5f11-4c2a-877b-80860f2ac2e4",
        "colab": {
          "base_uri": "https://localhost:8080/",
          "height": 34
        }
      },
      "source": [
        "scoresMaxEnt = cross_val_score(logReg, data, target, cv=3)\n",
        "print(\"Accuracy for MaxEnt: %0.3f (+/- %0.3f)\" % (scoresMaxEnt.mean(), scoresMaxEnt.std() * 2))"
      ],
      "execution_count": 43,
      "outputs": [
        {
          "output_type": "stream",
          "text": [
            "Accuracy for MaxEnt: 0.831 (+/- 0.024)\n"
          ],
          "name": "stdout"
        }
      ]
    },
    {
      "cell_type": "code",
      "metadata": {
        "colab_type": "code",
        "id": "K7RuUJHxx6DV",
        "outputId": "27e8effb-8b48-49a1-f0cd-c1d97612d9d5",
        "colab": {
          "base_uri": "https://localhost:8080/",
          "height": 34
        }
      },
      "source": [
        "scoresSVM = cross_val_score(svm, data, target, cv=3)\n",
        "print(\"Accuracy for SVM: %0.3f (+/- %0.3f)\" % (scoresSVM.mean(), scoresSVM.std() * 2))"
      ],
      "execution_count": 44,
      "outputs": [
        {
          "output_type": "stream",
          "text": [
            "Accuracy for SVM: 0.819 (+/- 0.030)\n"
          ],
          "name": "stdout"
        }
      ]
    },
    {
      "cell_type": "code",
      "metadata": {
        "colab_type": "code",
        "id": "i8TETXbXyCsm",
        "colab": {}
      },
      "source": [
        "POStagged_unigrams_presence_acc={'Features:' : 'unigrams+POS', 'NB' : [scoresNB.mean()], 'MaxEnt': [scoresMaxEnt.mean()], 'SVM' : [scoresSVM.mean()]}"
      ],
      "execution_count": 0,
      "outputs": []
    },
    {
      "cell_type": "code",
      "metadata": {
        "colab_type": "code",
        "id": "hyuPi-KX9pch",
        "colab": {}
      },
      "source": [
        "POStagged_unigrams_presence_accDF=pd.DataFrame(POStagged_unigrams_presence_acc)"
      ],
      "execution_count": 0,
      "outputs": []
    },
    {
      "cell_type": "code",
      "metadata": {
        "colab_type": "code",
        "id": "DMPa5UIQ9pcl",
        "colab": {}
      },
      "source": [
        "accuracies=accuracies.append(POStagged_unigrams_presence_accDF, ignore_index=True)"
      ],
      "execution_count": 0,
      "outputs": []
    },
    {
      "cell_type": "markdown",
      "metadata": {
        "colab_type": "text",
        "id": "aUhV_baMbatV"
      },
      "source": [
        "##Accuracies for adjectives(pres.) "
      ]
    },
    {
      "cell_type": "code",
      "metadata": {
        "colab_type": "code",
        "id": "6N-v24_AbatV",
        "outputId": "86c9af24-2427-4c8c-9a8b-52089e1a9e48",
        "colab": {
          "base_uri": "https://localhost:8080/",
          "height": 34
        }
      },
      "source": [
        "data=POStagged_ajectives_presence_vectorization(corpus['document'])"
      ],
      "execution_count": 48,
      "outputs": [
        {
          "output_type": "stream",
          "text": [
            "shape:  (1380, 13101)\n"
          ],
          "name": "stdout"
        }
      ]
    },
    {
      "cell_type": "code",
      "metadata": {
        "colab_type": "code",
        "id": "aWg2N1Axx7dE",
        "outputId": "8cc7bed7-4333-4bd2-f910-e6c43a9aaf73",
        "colab": {
          "base_uri": "https://localhost:8080/",
          "height": 34
        }
      },
      "source": [
        "scoresNB = cross_val_score(multinomialNaiveBayes, data, target, cv=3)\n",
        "print(\"Accuracy for NB: %0.3f (+/- %0.3f)\" % (scoresNB.mean(), scoresNB.std() * 2))"
      ],
      "execution_count": 49,
      "outputs": [
        {
          "output_type": "stream",
          "text": [
            "Accuracy for NB: 0.785 (+/- 0.028)\n"
          ],
          "name": "stdout"
        }
      ]
    },
    {
      "cell_type": "code",
      "metadata": {
        "colab_type": "code",
        "id": "3ph6btDxx7dG",
        "outputId": "902d9f66-72cb-4f73-f204-9caf9d6e2d56",
        "colab": {
          "base_uri": "https://localhost:8080/",
          "height": 34
        }
      },
      "source": [
        "scoresMaxEnt = cross_val_score(logReg, data, target, cv=3)\n",
        "print(\"Accuracy for MaxEnt: %0.3f (+/- %0.3f)\" % (scoresMaxEnt.mean(), scoresMaxEnt.std() * 2))"
      ],
      "execution_count": 50,
      "outputs": [
        {
          "output_type": "stream",
          "text": [
            "Accuracy for MaxEnt: 0.772 (+/- 0.020)\n"
          ],
          "name": "stdout"
        }
      ]
    },
    {
      "cell_type": "code",
      "metadata": {
        "colab_type": "code",
        "id": "9ZOaRnsjx7dI",
        "outputId": "7c2a0b7b-10b4-460b-b23e-0a13155969fa",
        "colab": {
          "base_uri": "https://localhost:8080/",
          "height": 34
        }
      },
      "source": [
        "scoresSVM = cross_val_score(svm, data, target, cv=3)\n",
        "print(\"Accuracy for SVM: %0.3f (+/- %0.3f)\" % (scoresSVM.mean(), scoresSVM.std() * 2))"
      ],
      "execution_count": 51,
      "outputs": [
        {
          "output_type": "stream",
          "text": [
            "Accuracy for SVM: 0.743 (+/- 0.026)\n"
          ],
          "name": "stdout"
        }
      ]
    },
    {
      "cell_type": "code",
      "metadata": {
        "colab_type": "code",
        "id": "WuayRGbhyDS5",
        "colab": {}
      },
      "source": [
        "POStagged_ajectives_presence_acc={'Features:' : 'adjectives', 'NB' : [scoresNB.mean()], 'MaxEnt': [scoresMaxEnt.mean()], 'SVM' : [scoresSVM.mean()]}"
      ],
      "execution_count": 0,
      "outputs": []
    },
    {
      "cell_type": "code",
      "metadata": {
        "colab_type": "code",
        "id": "ndR3OV3b9tAW",
        "colab": {}
      },
      "source": [
        "POStagged_ajectives_presence_accDF=pd.DataFrame(POStagged_ajectives_presence_acc)"
      ],
      "execution_count": 0,
      "outputs": []
    },
    {
      "cell_type": "code",
      "metadata": {
        "colab_type": "code",
        "id": "MnsP_M3v9tAY",
        "colab": {}
      },
      "source": [
        "accuracies=accuracies.append(POStagged_ajectives_presence_accDF, ignore_index=True)"
      ],
      "execution_count": 0,
      "outputs": []
    },
    {
      "cell_type": "markdown",
      "metadata": {
        "id": "C3Hf7M1r3isG",
        "colab_type": "text"
      },
      "source": [
        "## [Results]"
      ]
    },
    {
      "cell_type": "code",
      "metadata": {
        "id": "CSQA8M04J0cM",
        "colab_type": "code",
        "colab": {}
      },
      "source": [
        "pangs_acc=[{'Features:' : 'unigrams(freq.)', 'NB' : [79.0], 'MaxEnt': [np.nan], 'SVM' : [73.0]},\n",
        "           {'Features:' : 'unigrams(pres.)', 'NB' : [81.0], 'MaxEnt': [80.2], 'SVM' : [82.9]},\n",
        "           {'Features:' : 'unigrams and bigrams', 'NB' : [80.7], 'MaxEnt': [80.7], 'SVM' : [82.8]},\n",
        "           {'Features:' : 'bigrams', 'NB' : [77.3], 'MaxEnt': [77.5], 'SVM' : [76.5]},\n",
        "           {'Features:' : 'unigrams+POS', 'NB' : [81.3], 'MaxEnt': [80.3], 'SVM' : [82.0]},\n",
        "           {'Features:' : 'adjectives', 'NB' : [76.6], 'MaxEnt': [77.6], 'SVM' : [75.3]}]\n",
        "\n",
        "pangsDF = pd.DataFrame(pangs_acc, columns=['Features:', 'NB', 'MaxEnt','SVM'])"
      ],
      "execution_count": 0,
      "outputs": []
    },
    {
      "cell_type": "code",
      "metadata": {
        "id": "GiRH0DTd3u4N",
        "colab_type": "code",
        "outputId": "4e43d49e-7283-436b-887e-3db78e967db0",
        "colab": {
          "base_uri": "https://localhost:8080/",
          "height": 134
        }
      },
      "source": [
        "#my results\n",
        "accuracies.describe"
      ],
      "execution_count": 56,
      "outputs": [
        {
          "output_type": "execute_result",
          "data": {
            "text/plain": [
              "<bound method NDFrame.describe of                       Features:        NB    MaxEnt       SVM\n",
              "0               unigrams(freq.)  0.790580       NaN  0.794203\n",
              "1               unigrams(pres.)  0.810145  0.838406  0.831159\n",
              "2  unigrams and bigrams(pres.)   0.838406  0.834058  0.831159\n",
              "3                bigrams(pres.)  0.824638  0.803623  0.800725\n",
              "4                  unigrams+POS  0.810870  0.831159  0.818841\n",
              "5                    adjectives  0.784783  0.771739  0.743478>"
            ]
          },
          "metadata": {
            "tags": []
          },
          "execution_count": 56
        }
      ]
    },
    {
      "cell_type": "code",
      "metadata": {
        "id": "0D0MPM5tL4vR",
        "colab_type": "code",
        "outputId": "41b40ac5-dd51-48fe-8ccb-d323974fbf8d",
        "colab": {
          "base_uri": "https://localhost:8080/",
          "height": 134
        }
      },
      "source": [
        "#pangs results\n",
        "pangsDF.describe"
      ],
      "execution_count": 57,
      "outputs": [
        {
          "output_type": "execute_result",
          "data": {
            "text/plain": [
              "<bound method NDFrame.describe of               Features:      NB  MaxEnt     SVM\n",
              "0       unigrams(freq.)  [79.0]   [nan]  [73.0]\n",
              "1       unigrams(pres.)  [81.0]  [80.2]  [82.9]\n",
              "2  unigrams and bigrams  [80.7]  [80.7]  [82.8]\n",
              "3               bigrams  [77.3]  [77.5]  [76.5]\n",
              "4          unigrams+POS  [81.3]  [80.3]  [82.0]\n",
              "5            adjectives  [76.6]  [77.6]  [75.3]>"
            ]
          },
          "metadata": {
            "tags": []
          },
          "execution_count": 57
        }
      ]
    },
    {
      "cell_type": "markdown",
      "metadata": {
        "id": "plZ38XRC3zJu",
        "colab_type": "text"
      },
      "source": [
        "## [Final Words]\n",
        "The results produced via modern machine learning techniques are slightly better and differences between accuracies for different methods are smaller. Also using more folds give better performance but I decided to stay with three folds to compare results from the paper.\n",
        "In this case, we can see that binary vectors works better but also we see that intuitive approaches like covering just adjectives bring much worse results in sentiment classification. \n",
        "In this paper, I cover mainly the presence of features in the document, but we have also techniques like TF-IDF which covers term weights or word2vec which covers words context.\n",
        "In the future, I also intend to check these approaches."
      ]
    },
    {
      "cell_type": "markdown",
      "metadata": {
        "id": "Ng8pGkkw8XB3",
        "colab_type": "text"
      },
      "source": [
        "## [References]\n",
        "[Pang, Lee, Vaithyanathan. Thumbs up?  Sentiment Classification using Machine Learning Techniques, 2002.\n",
        "](http://www.cs.cornell.edu/home/llee/papers/sentiment.pdf)"
      ]
    }
  ]
}
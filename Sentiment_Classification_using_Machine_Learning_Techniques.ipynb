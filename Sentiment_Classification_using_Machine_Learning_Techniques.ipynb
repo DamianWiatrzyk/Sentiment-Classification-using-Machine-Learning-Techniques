{
  "nbformat": 4,
  "nbformat_minor": 0,
  "metadata": {
    "colab": {
      "name": "Sentiment Classification using Machine Learning Techniques",
      "version": "0.3.2",
      "provenance": [],
      "collapsed_sections": [
        "uZ6eXpGl2WBt",
        "NtF8ipN93JTj",
        "nO7WvVzMYNJI",
        "GGaQUiiqYo9O",
        "tBRjToOfa1FQ",
        "WwkSGwq4aopK",
        "y58sEhgtbMLO",
        "aUhV_baMbatV",
        "C3Hf7M1r3isG",
        "plZ38XRC3zJu",
        "Ng8pGkkw8XB3"
      ]
    },
    "kernelspec": {
      "name": "python3",
      "display_name": "Python 3"
    }
  },
  "cells": [
    {
      "cell_type": "markdown",
      "metadata": {
        "id": "tD-GvSpBxCDj",
        "colab_type": "text"
      },
      "source": [
        "##[Abstract]\n",
        "\n",
        "In this notebook, I decided to recreate the work of Bo Pang, Lillian Lee, and Shivakumar Vaithyanathan. The main goal was to check if using same machine learning methods but with modern libraries we could achieve better performance in sentiment classification.\n",
        "I conclude that modern libraries could give slightly better performance than Pang's team tools.\n",
        "\n",
        "\n",
        "\n"
      ]
    },
    {
      "cell_type": "markdown",
      "metadata": {
        "id": "91oJq77cyui_",
        "colab_type": "text"
      },
      "source": [
        "## [Project Description]\n",
        "I used cleaned dataset consist of 690 positive and 690 negative preprocessed movie reviews as corpus. Like authors, I didn't apply stemming or stoplists.\n",
        "Moreover, I decided to not check top 2633 unigrams and unigrams positioning because these approaches didn't give good results."
      ]
    },
    {
      "cell_type": "markdown",
      "metadata": {
        "id": "z5bI8iYLBEB7",
        "colab_type": "text"
      },
      "source": [
        "##[Libraries]"
      ]
    },
    {
      "cell_type": "code",
      "metadata": {
        "id": "q_e7rSozyvon",
        "colab_type": "code",
        "outputId": "7c141269-f3a0-4968-fcf8-8054a73641ef",
        "colab": {
          "base_uri": "https://localhost:8080/",
          "height": 4486
        }
      },
      "source": [
        "import nltk\n",
        "from nltk import word_tokenize\n",
        "from nltk.util import ngrams\n",
        "from sklearn.model_selection import train_test_split, cross_val_score\n",
        "from sklearn.preprocessing import LabelEncoder\n",
        "from sklearn import model_selection, naive_bayes, svm\n",
        "from sklearn.naive_bayes import MultinomialNB\n",
        "from sklearn.metrics import accuracy_score\n",
        "from sklearn.linear_model import LogisticRegression\n",
        "from sklearn.feature_extraction.text import CountVectorizer\n",
        "import pandas as pd\n",
        "import numpy as np\n",
        "\n",
        "\n",
        "nltk.download('punkt')\n",
        "nltk.download('averaged_perceptron_tagger')\n",
        "nltk.download('all')\n"
      ],
      "execution_count": 0,
      "outputs": [
        {
          "output_type": "stream",
          "text": [
            "[nltk_data] Downloading package punkt to /root/nltk_data...\n",
            "[nltk_data]   Package punkt is already up-to-date!\n",
            "[nltk_data] Downloading package averaged_perceptron_tagger to\n",
            "[nltk_data]     /root/nltk_data...\n",
            "[nltk_data]   Package averaged_perceptron_tagger is already up-to-\n",
            "[nltk_data]       date!\n",
            "[nltk_data] Downloading collection 'all'\n",
            "[nltk_data]    | \n",
            "[nltk_data]    | Downloading package abc to /root/nltk_data...\n",
            "[nltk_data]    |   Package abc is already up-to-date!\n",
            "[nltk_data]    | Downloading package alpino to /root/nltk_data...\n",
            "[nltk_data]    |   Package alpino is already up-to-date!\n",
            "[nltk_data]    | Downloading package biocreative_ppi to\n",
            "[nltk_data]    |     /root/nltk_data...\n",
            "[nltk_data]    |   Package biocreative_ppi is already up-to-date!\n",
            "[nltk_data]    | Downloading package brown to /root/nltk_data...\n",
            "[nltk_data]    |   Package brown is already up-to-date!\n",
            "[nltk_data]    | Downloading package brown_tei to /root/nltk_data...\n",
            "[nltk_data]    |   Package brown_tei is already up-to-date!\n",
            "[nltk_data]    | Downloading package cess_cat to /root/nltk_data...\n",
            "[nltk_data]    |   Package cess_cat is already up-to-date!\n",
            "[nltk_data]    | Downloading package cess_esp to /root/nltk_data...\n",
            "[nltk_data]    |   Package cess_esp is already up-to-date!\n",
            "[nltk_data]    | Downloading package chat80 to /root/nltk_data...\n",
            "[nltk_data]    |   Package chat80 is already up-to-date!\n",
            "[nltk_data]    | Downloading package city_database to\n",
            "[nltk_data]    |     /root/nltk_data...\n",
            "[nltk_data]    |   Package city_database is already up-to-date!\n",
            "[nltk_data]    | Downloading package cmudict to /root/nltk_data...\n",
            "[nltk_data]    |   Package cmudict is already up-to-date!\n",
            "[nltk_data]    | Downloading package comparative_sentences to\n",
            "[nltk_data]    |     /root/nltk_data...\n",
            "[nltk_data]    |   Package comparative_sentences is already up-to-\n",
            "[nltk_data]    |       date!\n",
            "[nltk_data]    | Downloading package comtrans to /root/nltk_data...\n",
            "[nltk_data]    |   Package comtrans is already up-to-date!\n",
            "[nltk_data]    | Downloading package conll2000 to /root/nltk_data...\n",
            "[nltk_data]    |   Package conll2000 is already up-to-date!\n",
            "[nltk_data]    | Downloading package conll2002 to /root/nltk_data...\n",
            "[nltk_data]    |   Package conll2002 is already up-to-date!\n",
            "[nltk_data]    | Downloading package conll2007 to /root/nltk_data...\n",
            "[nltk_data]    |   Package conll2007 is already up-to-date!\n",
            "[nltk_data]    | Downloading package crubadan to /root/nltk_data...\n",
            "[nltk_data]    |   Package crubadan is already up-to-date!\n",
            "[nltk_data]    | Downloading package dependency_treebank to\n",
            "[nltk_data]    |     /root/nltk_data...\n",
            "[nltk_data]    |   Package dependency_treebank is already up-to-date!\n",
            "[nltk_data]    | Downloading package dolch to /root/nltk_data...\n",
            "[nltk_data]    |   Package dolch is already up-to-date!\n",
            "[nltk_data]    | Downloading package europarl_raw to\n",
            "[nltk_data]    |     /root/nltk_data...\n",
            "[nltk_data]    |   Package europarl_raw is already up-to-date!\n",
            "[nltk_data]    | Downloading package floresta to /root/nltk_data...\n",
            "[nltk_data]    |   Package floresta is already up-to-date!\n",
            "[nltk_data]    | Downloading package framenet_v15 to\n",
            "[nltk_data]    |     /root/nltk_data...\n",
            "[nltk_data]    |   Package framenet_v15 is already up-to-date!\n",
            "[nltk_data]    | Downloading package framenet_v17 to\n",
            "[nltk_data]    |     /root/nltk_data...\n",
            "[nltk_data]    |   Package framenet_v17 is already up-to-date!\n",
            "[nltk_data]    | Downloading package gazetteers to /root/nltk_data...\n",
            "[nltk_data]    |   Package gazetteers is already up-to-date!\n",
            "[nltk_data]    | Downloading package genesis to /root/nltk_data...\n",
            "[nltk_data]    |   Package genesis is already up-to-date!\n",
            "[nltk_data]    | Downloading package gutenberg to /root/nltk_data...\n",
            "[nltk_data]    |   Package gutenberg is already up-to-date!\n",
            "[nltk_data]    | Downloading package ieer to /root/nltk_data...\n",
            "[nltk_data]    |   Package ieer is already up-to-date!\n",
            "[nltk_data]    | Downloading package inaugural to /root/nltk_data...\n",
            "[nltk_data]    |   Package inaugural is already up-to-date!\n",
            "[nltk_data]    | Downloading package indian to /root/nltk_data...\n",
            "[nltk_data]    |   Package indian is already up-to-date!\n",
            "[nltk_data]    | Downloading package jeita to /root/nltk_data...\n",
            "[nltk_data]    |   Package jeita is already up-to-date!\n",
            "[nltk_data]    | Downloading package kimmo to /root/nltk_data...\n",
            "[nltk_data]    |   Package kimmo is already up-to-date!\n",
            "[nltk_data]    | Downloading package knbc to /root/nltk_data...\n",
            "[nltk_data]    |   Package knbc is already up-to-date!\n",
            "[nltk_data]    | Downloading package lin_thesaurus to\n",
            "[nltk_data]    |     /root/nltk_data...\n",
            "[nltk_data]    |   Package lin_thesaurus is already up-to-date!\n",
            "[nltk_data]    | Downloading package mac_morpho to /root/nltk_data...\n",
            "[nltk_data]    |   Package mac_morpho is already up-to-date!\n",
            "[nltk_data]    | Downloading package machado to /root/nltk_data...\n",
            "[nltk_data]    |   Package machado is already up-to-date!\n",
            "[nltk_data]    | Downloading package masc_tagged to /root/nltk_data...\n",
            "[nltk_data]    |   Package masc_tagged is already up-to-date!\n",
            "[nltk_data]    | Downloading package moses_sample to\n",
            "[nltk_data]    |     /root/nltk_data...\n",
            "[nltk_data]    |   Package moses_sample is already up-to-date!\n",
            "[nltk_data]    | Downloading package movie_reviews to\n",
            "[nltk_data]    |     /root/nltk_data...\n",
            "[nltk_data]    |   Package movie_reviews is already up-to-date!\n",
            "[nltk_data]    | Downloading package names to /root/nltk_data...\n",
            "[nltk_data]    |   Package names is already up-to-date!\n",
            "[nltk_data]    | Downloading package nombank.1.0 to /root/nltk_data...\n",
            "[nltk_data]    |   Package nombank.1.0 is already up-to-date!\n",
            "[nltk_data]    | Downloading package nps_chat to /root/nltk_data...\n",
            "[nltk_data]    |   Package nps_chat is already up-to-date!\n",
            "[nltk_data]    | Downloading package omw to /root/nltk_data...\n",
            "[nltk_data]    |   Package omw is already up-to-date!\n",
            "[nltk_data]    | Downloading package opinion_lexicon to\n",
            "[nltk_data]    |     /root/nltk_data...\n",
            "[nltk_data]    |   Package opinion_lexicon is already up-to-date!\n",
            "[nltk_data]    | Downloading package paradigms to /root/nltk_data...\n",
            "[nltk_data]    |   Package paradigms is already up-to-date!\n",
            "[nltk_data]    | Downloading package pil to /root/nltk_data...\n",
            "[nltk_data]    |   Package pil is already up-to-date!\n",
            "[nltk_data]    | Downloading package pl196x to /root/nltk_data...\n",
            "[nltk_data]    |   Package pl196x is already up-to-date!\n",
            "[nltk_data]    | Downloading package ppattach to /root/nltk_data...\n",
            "[nltk_data]    |   Package ppattach is already up-to-date!\n",
            "[nltk_data]    | Downloading package problem_reports to\n",
            "[nltk_data]    |     /root/nltk_data...\n",
            "[nltk_data]    |   Package problem_reports is already up-to-date!\n",
            "[nltk_data]    | Downloading package propbank to /root/nltk_data...\n",
            "[nltk_data]    |   Package propbank is already up-to-date!\n",
            "[nltk_data]    | Downloading package ptb to /root/nltk_data...\n",
            "[nltk_data]    |   Package ptb is already up-to-date!\n",
            "[nltk_data]    | Downloading package product_reviews_1 to\n",
            "[nltk_data]    |     /root/nltk_data...\n",
            "[nltk_data]    |   Package product_reviews_1 is already up-to-date!\n",
            "[nltk_data]    | Downloading package product_reviews_2 to\n",
            "[nltk_data]    |     /root/nltk_data...\n",
            "[nltk_data]    |   Package product_reviews_2 is already up-to-date!\n",
            "[nltk_data]    | Downloading package pros_cons to /root/nltk_data...\n",
            "[nltk_data]    |   Package pros_cons is already up-to-date!\n",
            "[nltk_data]    | Downloading package qc to /root/nltk_data...\n",
            "[nltk_data]    |   Package qc is already up-to-date!\n",
            "[nltk_data]    | Downloading package reuters to /root/nltk_data...\n",
            "[nltk_data]    |   Package reuters is already up-to-date!\n",
            "[nltk_data]    | Downloading package rte to /root/nltk_data...\n",
            "[nltk_data]    |   Package rte is already up-to-date!\n",
            "[nltk_data]    | Downloading package semcor to /root/nltk_data...\n",
            "[nltk_data]    |   Package semcor is already up-to-date!\n",
            "[nltk_data]    | Downloading package senseval to /root/nltk_data...\n",
            "[nltk_data]    |   Package senseval is already up-to-date!\n",
            "[nltk_data]    | Downloading package sentiwordnet to\n",
            "[nltk_data]    |     /root/nltk_data...\n",
            "[nltk_data]    |   Package sentiwordnet is already up-to-date!\n",
            "[nltk_data]    | Downloading package sentence_polarity to\n",
            "[nltk_data]    |     /root/nltk_data...\n",
            "[nltk_data]    |   Package sentence_polarity is already up-to-date!\n",
            "[nltk_data]    | Downloading package shakespeare to /root/nltk_data...\n",
            "[nltk_data]    |   Package shakespeare is already up-to-date!\n",
            "[nltk_data]    | Downloading package sinica_treebank to\n",
            "[nltk_data]    |     /root/nltk_data...\n",
            "[nltk_data]    |   Package sinica_treebank is already up-to-date!\n",
            "[nltk_data]    | Downloading package smultron to /root/nltk_data...\n",
            "[nltk_data]    |   Package smultron is already up-to-date!\n",
            "[nltk_data]    | Downloading package state_union to /root/nltk_data...\n",
            "[nltk_data]    |   Package state_union is already up-to-date!\n",
            "[nltk_data]    | Downloading package stopwords to /root/nltk_data...\n",
            "[nltk_data]    |   Package stopwords is already up-to-date!\n",
            "[nltk_data]    | Downloading package subjectivity to\n",
            "[nltk_data]    |     /root/nltk_data...\n",
            "[nltk_data]    |   Package subjectivity is already up-to-date!\n",
            "[nltk_data]    | Downloading package swadesh to /root/nltk_data...\n",
            "[nltk_data]    |   Package swadesh is already up-to-date!\n",
            "[nltk_data]    | Downloading package switchboard to /root/nltk_data...\n",
            "[nltk_data]    |   Package switchboard is already up-to-date!\n",
            "[nltk_data]    | Downloading package timit to /root/nltk_data...\n",
            "[nltk_data]    |   Package timit is already up-to-date!\n",
            "[nltk_data]    | Downloading package toolbox to /root/nltk_data...\n",
            "[nltk_data]    |   Package toolbox is already up-to-date!\n",
            "[nltk_data]    | Downloading package treebank to /root/nltk_data...\n",
            "[nltk_data]    |   Package treebank is already up-to-date!\n",
            "[nltk_data]    | Downloading package twitter_samples to\n",
            "[nltk_data]    |     /root/nltk_data...\n",
            "[nltk_data]    |   Package twitter_samples is already up-to-date!\n",
            "[nltk_data]    | Downloading package udhr to /root/nltk_data...\n",
            "[nltk_data]    |   Package udhr is already up-to-date!\n",
            "[nltk_data]    | Downloading package udhr2 to /root/nltk_data...\n",
            "[nltk_data]    |   Package udhr2 is already up-to-date!\n",
            "[nltk_data]    | Downloading package unicode_samples to\n",
            "[nltk_data]    |     /root/nltk_data...\n",
            "[nltk_data]    |   Package unicode_samples is already up-to-date!\n",
            "[nltk_data]    | Downloading package universal_treebanks_v20 to\n",
            "[nltk_data]    |     /root/nltk_data...\n",
            "[nltk_data]    |   Package universal_treebanks_v20 is already up-to-\n",
            "[nltk_data]    |       date!\n",
            "[nltk_data]    | Downloading package verbnet to /root/nltk_data...\n",
            "[nltk_data]    |   Package verbnet is already up-to-date!\n",
            "[nltk_data]    | Downloading package verbnet3 to /root/nltk_data...\n",
            "[nltk_data]    |   Package verbnet3 is already up-to-date!\n",
            "[nltk_data]    | Downloading package webtext to /root/nltk_data...\n",
            "[nltk_data]    |   Package webtext is already up-to-date!\n",
            "[nltk_data]    | Downloading package wordnet to /root/nltk_data...\n",
            "[nltk_data]    |   Package wordnet is already up-to-date!\n",
            "[nltk_data]    | Downloading package wordnet_ic to /root/nltk_data...\n",
            "[nltk_data]    |   Package wordnet_ic is already up-to-date!\n",
            "[nltk_data]    | Downloading package words to /root/nltk_data...\n",
            "[nltk_data]    |   Package words is already up-to-date!\n",
            "[nltk_data]    | Downloading package ycoe to /root/nltk_data...\n",
            "[nltk_data]    |   Package ycoe is already up-to-date!\n",
            "[nltk_data]    | Downloading package rslp to /root/nltk_data...\n",
            "[nltk_data]    |   Package rslp is already up-to-date!\n",
            "[nltk_data]    | Downloading package maxent_treebank_pos_tagger to\n",
            "[nltk_data]    |     /root/nltk_data...\n",
            "[nltk_data]    |   Package maxent_treebank_pos_tagger is already up-\n",
            "[nltk_data]    |       to-date!\n",
            "[nltk_data]    | Downloading package universal_tagset to\n",
            "[nltk_data]    |     /root/nltk_data...\n",
            "[nltk_data]    |   Package universal_tagset is already up-to-date!\n",
            "[nltk_data]    | Downloading package maxent_ne_chunker to\n",
            "[nltk_data]    |     /root/nltk_data...\n",
            "[nltk_data]    |   Package maxent_ne_chunker is already up-to-date!\n",
            "[nltk_data]    | Downloading package punkt to /root/nltk_data...\n",
            "[nltk_data]    |   Package punkt is already up-to-date!\n",
            "[nltk_data]    | Downloading package book_grammars to\n",
            "[nltk_data]    |     /root/nltk_data...\n",
            "[nltk_data]    |   Package book_grammars is already up-to-date!\n",
            "[nltk_data]    | Downloading package sample_grammars to\n",
            "[nltk_data]    |     /root/nltk_data...\n",
            "[nltk_data]    |   Package sample_grammars is already up-to-date!\n",
            "[nltk_data]    | Downloading package spanish_grammars to\n",
            "[nltk_data]    |     /root/nltk_data...\n",
            "[nltk_data]    |   Package spanish_grammars is already up-to-date!\n",
            "[nltk_data]    | Downloading package basque_grammars to\n",
            "[nltk_data]    |     /root/nltk_data...\n",
            "[nltk_data]    |   Package basque_grammars is already up-to-date!\n",
            "[nltk_data]    | Downloading package large_grammars to\n",
            "[nltk_data]    |     /root/nltk_data...\n",
            "[nltk_data]    |   Package large_grammars is already up-to-date!\n",
            "[nltk_data]    | Downloading package tagsets to /root/nltk_data...\n",
            "[nltk_data]    |   Package tagsets is already up-to-date!\n",
            "[nltk_data]    | Downloading package snowball_data to\n",
            "[nltk_data]    |     /root/nltk_data...\n",
            "[nltk_data]    |   Package snowball_data is already up-to-date!\n",
            "[nltk_data]    | Downloading package bllip_wsj_no_aux to\n",
            "[nltk_data]    |     /root/nltk_data...\n",
            "[nltk_data]    |   Package bllip_wsj_no_aux is already up-to-date!\n",
            "[nltk_data]    | Downloading package word2vec_sample to\n",
            "[nltk_data]    |     /root/nltk_data...\n",
            "[nltk_data]    |   Package word2vec_sample is already up-to-date!\n",
            "[nltk_data]    | Downloading package panlex_swadesh to\n",
            "[nltk_data]    |     /root/nltk_data...\n",
            "[nltk_data]    |   Package panlex_swadesh is already up-to-date!\n",
            "[nltk_data]    | Downloading package mte_teip5 to /root/nltk_data...\n",
            "[nltk_data]    |   Package mte_teip5 is already up-to-date!\n",
            "[nltk_data]    | Downloading package averaged_perceptron_tagger to\n",
            "[nltk_data]    |     /root/nltk_data...\n",
            "[nltk_data]    |   Package averaged_perceptron_tagger is already up-\n",
            "[nltk_data]    |       to-date!\n",
            "[nltk_data]    | Downloading package averaged_perceptron_tagger_ru to\n",
            "[nltk_data]    |     /root/nltk_data...\n",
            "[nltk_data]    |   Package averaged_perceptron_tagger_ru is already\n",
            "[nltk_data]    |       up-to-date!\n",
            "[nltk_data]    | Downloading package perluniprops to\n",
            "[nltk_data]    |     /root/nltk_data...\n",
            "[nltk_data]    |   Package perluniprops is already up-to-date!\n",
            "[nltk_data]    | Downloading package nonbreaking_prefixes to\n",
            "[nltk_data]    |     /root/nltk_data...\n",
            "[nltk_data]    |   Package nonbreaking_prefixes is already up-to-date!\n",
            "[nltk_data]    | Downloading package vader_lexicon to\n",
            "[nltk_data]    |     /root/nltk_data...\n",
            "[nltk_data]    |   Package vader_lexicon is already up-to-date!\n",
            "[nltk_data]    | Downloading package porter_test to /root/nltk_data...\n",
            "[nltk_data]    |   Package porter_test is already up-to-date!\n",
            "[nltk_data]    | Downloading package wmt15_eval to /root/nltk_data...\n",
            "[nltk_data]    |   Package wmt15_eval is already up-to-date!\n",
            "[nltk_data]    | Downloading package mwa_ppdb to /root/nltk_data...\n",
            "[nltk_data]    |   Package mwa_ppdb is already up-to-date!\n",
            "[nltk_data]    | \n",
            "[nltk_data]  Done downloading collection all\n"
          ],
          "name": "stdout"
        },
        {
          "output_type": "execute_result",
          "data": {
            "text/plain": [
              "True"
            ]
          },
          "metadata": {
            "tags": []
          },
          "execution_count": 61
        }
      ]
    },
    {
      "cell_type": "markdown",
      "metadata": {
        "id": "Rylpdsb21Wo_",
        "colab_type": "text"
      },
      "source": [
        "## [Data Loading]\n",
        "Data was downloaded from Cornell University site and due to a different encoding, I processed it to one CSV file and uploaded it to my GitHub."
      ]
    },
    {
      "cell_type": "code",
      "metadata": {
        "id": "g1_euxvq1XQZ",
        "colab_type": "code",
        "colab": {}
      },
      "source": [
        "corpus = pd.read_csv(\"https://raw.githubusercontent.com/DamianWiatrzyk/PangDatasetCorpus/master/corpus.csv\", sep='\\t')"
      ],
      "execution_count": 0,
      "outputs": []
    },
    {
      "cell_type": "markdown",
      "metadata": {
        "id": "Ia6remU_fV7W",
        "colab_type": "text"
      },
      "source": [
        "## [Data Exploration] \n",
        "A quick overview of used corpus."
      ]
    },
    {
      "cell_type": "code",
      "metadata": {
        "id": "DtKopC38PDgl",
        "colab_type": "code",
        "outputId": "84f4ef58-6d18-44dc-b539-8e396dc98060",
        "colab": {
          "base_uri": "https://localhost:8080/",
          "height": 34
        }
      },
      "source": [
        "corpus.shape"
      ],
      "execution_count": 0,
      "outputs": [
        {
          "output_type": "execute_result",
          "data": {
            "text/plain": [
              "(1380, 2)"
            ]
          },
          "metadata": {
            "tags": []
          },
          "execution_count": 63
        }
      ]
    },
    {
      "cell_type": "code",
      "metadata": {
        "id": "j7UuNvAgk-xt",
        "colab_type": "code",
        "outputId": "3fdfc7a2-e7d7-4ad6-9672-a9fb0cd350a9",
        "colab": {
          "base_uri": "https://localhost:8080/",
          "height": 1092
        }
      },
      "source": [
        "corpus.describe"
      ],
      "execution_count": 0,
      "outputs": [
        {
          "output_type": "execute_result",
          "data": {
            "text/plain": [
              "<bound method NDFrame.describe of                                                document label\n",
              "0     the farrelly brothers' third film , after dumb...   pos\n",
              "1     more movie views by jamey hughton at : http : ...   pos\n",
              "2     if chris farley had strapped some fake mutton-...   pos\n",
              "3     in zoolander , the world's most successful , i...   pos\n",
              "4     if the current trends of hollywood filmmaking ...   pos\n",
              "5     for more reviews and movie trailers , visit ht...   pos\n",
              "6     director : george armitage cast : john cusack ...   pos\n",
              "7     written by : peter wang and shirley sunstarrin...   pos\n",
              "8     if you¹ve been paying attention to the media f...   pos\n",
              "9     director : john sayles || screenplay : john sa...   pos\n",
              "10    starring liam neeson , ewan mcgregor , jake ll...   pos\n",
              "11    one never quite knows what one is going to get...   pos\n",
              "12    an entertaining 2 hours awaits the audience in...   pos\n",
              "13    made ( 2001 ) . starring jon favreau , vince v...   pos\n",
              "14    director :   steven soderbergh cast :   george...   pos\n",
              "15    ultra low budget but extremely inventive horro...   pos\n",
              "16    if you're the type of person who goes on the s...   pos\n",
              "17    release date : january 22 , 1999 starring : em...   pos\n",
              "18    directed by lisa cholodenko . cast : radha mit...   pos\n",
              "19    dawson's creek resident hunk james van der bee...   pos\n",
              "20    `blue streak' , martin lawrence's newest outin...   pos\n",
              "21    now that \" boogie nights \" has made disco resp...   pos\n",
              "22    warning : if you actually wish to see the film...   pos\n",
              "23    back in the days of the roman empire , italian...   pos\n",
              "24    the sixth sense  -a review by bill chambers ( ...   pos\n",
              "25    my filmcritic . com colleague norm schrager na...   pos\n",
              "26    rated on a 4-star scale screening venue : odeo...   pos\n",
              "27    vampire films , as well as other horror films ...   pos\n",
              "28    it's an interesting premise . our reality is o...   pos\n",
              "29    every year around this time , or during the ch...   pos\n",
              "...                                                 ...   ...\n",
              "1350  where the money is , directed by marek kanievs...   neg\n",
              "1351  not to be confused with that bruce willis ghos...   neg\n",
              "1352  john carpenter's ghosts of mars ( 2001 ) ice c...   neg\n",
              "1353  paramount / 2 : 02 / 1997 / r ( violence , lan...   neg\n",
              "1354  directed by neil jordan . cast : eomann owens ...   neg\n",
              "1355  michael richards leaves his spot as kramer on ...   neg\n",
              "1356  directed by bill froehlich . cast : scott jaco...   neg\n",
              "1357  i'm going to keep this one fairly short , folk...   neg\n",
              "1358  i admit it . i thought arnold schwarzenegger h...   neg\n",
              "1359  rated r sony pictures classics starring julian...   neg\n",
              "1360  under any other circumstances , i would not be...   neg\n",
              "1361  if someone had told me that a movie starring r...   neg\n",
              "1362  so ask yourself what \" 8mm \" ( \" eight millime...   neg\n",
              "1363  this is the movie that could single-handedly b...   neg\n",
              "1364  disconnect the phone line . don't accept the c...   neg\n",
              "1365  aspiring broadway composer robert ( aaron will...   neg\n",
              "1366  there are many things that weâve learned fro...   neg\n",
              "1367  imagine watching the superbowl , it's a goal l...   neg\n",
              "1368  director : robert mandel written by : roy frum...   neg\n",
              "1369  and now the high-flying hong kong style of fil...   neg\n",
              "1370  cast : nicolas cage , joaquin phoenix , james ...   neg\n",
              "1371  for more reviews and movie trailers , visit ht...   neg\n",
              "1372  the now-classic video game tomb raider is a ge...   neg\n",
              "1373  starring : william hurt ( prof . john robinson...   neg\n",
              "1374  for more movie reviews and screensavers , visi...   neg\n",
              "1375  ( dreamworks skg ) running time : 2 hours star...   neg\n",
              "1376  one of these days , i'll make good on my promi...   neg\n",
              "1377  scheduled to open on december 20th is the come...   neg\n",
              "1378  * * * warning - the following review contains ...   neg\n",
              "1379  if anyone had been able in 1983 to forsee a la...   neg\n",
              "\n",
              "[1380 rows x 2 columns]>"
            ]
          },
          "metadata": {
            "tags": []
          },
          "execution_count": 64
        }
      ]
    },
    {
      "cell_type": "markdown",
      "metadata": {
        "id": "MwVV-MGG14UL",
        "colab_type": "text"
      },
      "source": [
        "## [Data Preprocessing and Vectorizers]\n",
        "This step was done by Pang's team so I could skip it and prepare vectorizers. Each vectorizer corresponds with different Bag-Of-Features tokenization."
      ]
    },
    {
      "cell_type": "code",
      "metadata": {
        "id": "Cv2rT3Bm06xk",
        "colab_type": "code",
        "colab": {}
      },
      "source": [
        "#returns pos_tagged unigrams\n",
        "def unigram_POS_tokens(docs):\n",
        "  tokens = nltk.word_tokenize(docs)\n",
        "  unigram_POS = nltk.pos_tag(tokens)\n",
        "  return list(unigram_POS)"
      ],
      "execution_count": 0,
      "outputs": []
    },
    {
      "cell_type": "code",
      "metadata": {
        "id": "s5mvdw95BB36",
        "colab_type": "code",
        "colab": {}
      },
      "source": [
        "#returns only pos_tagged adjectives\n",
        "def unigram_adjectives(docs):\n",
        "    tokens = nltk.word_tokenize(docs)\n",
        "    adjectives = list()\n",
        "    for tag in filter(lambda x: x[1] == 'JJ' or x[1] == 'JJS' or x[1] == 'JJR',\n",
        "                      nltk.pos_tag(tokens)):\n",
        "        adjectives.extend([tag[0]])\n",
        "\n",
        "    return adjectives"
      ],
      "execution_count": 0,
      "outputs": []
    },
    {
      "cell_type": "code",
      "metadata": {
        "id": "zlZsLOkx9xi8",
        "colab_type": "code",
        "colab": {}
      },
      "source": [
        "def unigrams_frequency_vectorization(docs):\n",
        "  vectorizer = CountVectorizer(ngram_range=(1, 1), binary=False)\n",
        "  # tokenize and build vocab\n",
        "  vectorizer.fit(docs)\n",
        "  # encode document\n",
        "  vector = vectorizer.transform(docs)\n",
        "  # summarize encoded vector\n",
        "  print('shape: ', vector.shape)\n",
        "  return vector"
      ],
      "execution_count": 0,
      "outputs": []
    },
    {
      "cell_type": "code",
      "metadata": {
        "id": "kHwxuvUJ922l",
        "colab_type": "code",
        "colab": {}
      },
      "source": [
        "def unigrams_presence_vectorization(docs):\n",
        "  vectorizer = CountVectorizer(ngram_range=(1, 1), binary=True)\n",
        "  # tokenize and build vocab\n",
        "  vectorizer.fit(docs)\n",
        "  # encode document\n",
        "  vector = vectorizer.transform(docs)\n",
        "  # summarize encoded vector\n",
        "  print('shape: ', vector.shape)\n",
        "  return vector"
      ],
      "execution_count": 0,
      "outputs": []
    },
    {
      "cell_type": "code",
      "metadata": {
        "id": "U18TZJqZ98bL",
        "colab_type": "code",
        "colab": {}
      },
      "source": [
        "def bigrams_presence_vectorization(docs):\n",
        "  vectorizer = CountVectorizer(ngram_range=(2, 2), binary=True)\n",
        "  # tokenize and build vocab\n",
        "  vectorizer.fit(docs)\n",
        "  # encode document\n",
        "  vector = vectorizer.transform(docs)\n",
        "  # summarize encoded vector\n",
        "  print('shape: ', vector.shape)\n",
        "  return vector"
      ],
      "execution_count": 0,
      "outputs": []
    },
    {
      "cell_type": "code",
      "metadata": {
        "id": "RAqec296-F75",
        "colab_type": "code",
        "colab": {}
      },
      "source": [
        "def unigrams_and_bigrams_presence_vectorization(docs):\n",
        "  vectorizer = CountVectorizer(ngram_range=(1, 2), binary=True)\n",
        "  # tokenize and build vocab\n",
        "  vectorizer.fit(docs)\n",
        "  # encode document\n",
        "  vector = vectorizer.transform(docs)\n",
        "  # summarize encoded vector\n",
        "  print('shape: ', vector.shape)\n",
        "  return vector"
      ],
      "execution_count": 0,
      "outputs": []
    },
    {
      "cell_type": "code",
      "metadata": {
        "id": "4CgWCvsX-Wzi",
        "colab_type": "code",
        "colab": {}
      },
      "source": [
        "def POStagged_unigrams_presence_vectorization(docs):\n",
        "  vectorizer = CountVectorizer(ngram_range=(1, 1), binary=True, tokenizer=unigram_POS_tokens)\n",
        "  # tokenize and build vocab\n",
        "  vectorizer.fit(docs)\n",
        "  # encode document\n",
        "  vector = vectorizer.transform(docs)\n",
        "  # summarize encoded vector\n",
        "  print('shape: ', vector.shape)\n",
        "  return vector"
      ],
      "execution_count": 0,
      "outputs": []
    },
    {
      "cell_type": "code",
      "metadata": {
        "id": "87RsmGpxA4aB",
        "colab_type": "code",
        "colab": {}
      },
      "source": [
        "def POStagged_ajectives_presence_vectorization(docs):\n",
        "  vectorizer = CountVectorizer(ngram_range=(1, 1), binary=True, tokenizer=unigram_adjectives)\n",
        "  # tokenize and build vocab\n",
        "  vectorizer.fit(docs)\n",
        "  # encode document\n",
        "  vector = vectorizer.transform(docs)\n",
        "  # summarize encoded vector\n",
        "  print('shape: ', vector.shape)\n",
        "  return vector"
      ],
      "execution_count": 0,
      "outputs": []
    },
    {
      "cell_type": "markdown",
      "metadata": {
        "id": "uZ6eXpGl2WBt",
        "colab_type": "text"
      },
      "source": [
        "## [Classifiers]"
      ]
    },
    {
      "cell_type": "code",
      "metadata": {
        "id": "P2b6vtcU3ddJ",
        "colab_type": "code",
        "colab": {}
      },
      "source": [
        "#used classifiers\n",
        "multinomialNaiveBayes = clf = MultinomialNB()\n",
        "logReg = LogisticRegression(random_state=0, solver='lbfgs',multi_class='multinomial', max_iter=500)\n",
        "svm = svm.SVC(kernel='linear', C=1)"
      ],
      "execution_count": 0,
      "outputs": []
    },
    {
      "cell_type": "markdown",
      "metadata": {
        "id": "NtF8ipN93JTj",
        "colab_type": "text"
      },
      "source": [
        "## [Training Model]\n",
        "In the next steps, I vectorize data depending on the examined case. Accuracies are average three-fold cross-validation results."
      ]
    },
    {
      "cell_type": "markdown",
      "metadata": {
        "id": "nO7WvVzMYNJI",
        "colab_type": "text"
      },
      "source": [
        "##Accuracies for unigrams(freq.) \n",
        "Please note that in this case, I use feature-count vectors. However, MaxEnt classifier only reflects the\n",
        "presence or absence of a feature, rather than directly incorporating feature frequency.\n",
        "In further cases, binary vectors are applied."
      ]
    },
    {
      "cell_type": "code",
      "metadata": {
        "id": "zSgpv70Lah1v",
        "colab_type": "code",
        "outputId": "7fcaeb1e-5427-469d-db56-fb6960068466",
        "colab": {
          "base_uri": "https://localhost:8080/",
          "height": 34
        }
      },
      "source": [
        "data=unigrams_frequency_vectorization(corpus['document'])\n",
        "encoder = LabelEncoder()\n",
        "target = encoder.fit_transform(corpus['label'])"
      ],
      "execution_count": 0,
      "outputs": [
        {
          "output_type": "stream",
          "text": [
            "shape:  (1380, 34989)\n"
          ],
          "name": "stdout"
        }
      ]
    },
    {
      "cell_type": "code",
      "metadata": {
        "colab_type": "code",
        "outputId": "4eb176b6-2edb-417f-8986-ec6c87d99153",
        "id": "Y8avgihhfWll",
        "colab": {
          "base_uri": "https://localhost:8080/",
          "height": 34
        }
      },
      "source": [
        "scoresNB = cross_val_score(multinomialNaiveBayes, data, target, cv=3)\n",
        "print(\"Accuracy for NB: %0.3f (+/- %0.3f)\" % (scoresNB.mean(), scoresNB.std() * 2))"
      ],
      "execution_count": 0,
      "outputs": [
        {
          "output_type": "stream",
          "text": [
            "Accuracy for NB: 0.791 (+/- 0.026)\n"
          ],
          "name": "stdout"
        }
      ]
    },
    {
      "cell_type": "code",
      "metadata": {
        "colab_type": "code",
        "id": "FNl1042GfWlx",
        "outputId": "56820a56-a263-4773-de2d-b5cc9a85e01a",
        "colab": {
          "base_uri": "https://localhost:8080/",
          "height": 34
        }
      },
      "source": [
        "scoresSVM = cross_val_score(svm, data, target, cv=3)\n",
        "print(\"Accuracy for SVM: %0.3f (+/- %0.3f)\" % (scoresSVM.mean(), scoresSVM.std() * 2))"
      ],
      "execution_count": 0,
      "outputs": [
        {
          "output_type": "stream",
          "text": [
            "Accuracy for SVM: 0.794 (+/- 0.008)\n"
          ],
          "name": "stdout"
        }
      ]
    },
    {
      "cell_type": "code",
      "metadata": {
        "id": "nWnN8naWvpvE",
        "colab_type": "code",
        "colab": {}
      },
      "source": [
        "unigrams_frequency_acc={'Features:' : 'unigrams(freq.)', 'NB' : [scoresNB.mean()], 'MaxEnt': [np.nan], 'SVM' : [scoresSVM.mean()]}"
      ],
      "execution_count": 0,
      "outputs": []
    },
    {
      "cell_type": "code",
      "metadata": {
        "id": "E0yTLuqB84ne",
        "colab_type": "code",
        "colab": {}
      },
      "source": [
        "unigrams_frequency_accDF=pd.DataFrame(unigrams_frequency_acc)"
      ],
      "execution_count": 0,
      "outputs": []
    },
    {
      "cell_type": "code",
      "metadata": {
        "id": "Io9QKm63wz0X",
        "colab_type": "code",
        "colab": {}
      },
      "source": [
        "accuracies = pd.DataFrame(unigrams_frequency_accDF, columns=['Features:', 'NB', 'MaxEnt','SVM'])"
      ],
      "execution_count": 0,
      "outputs": []
    },
    {
      "cell_type": "markdown",
      "metadata": {
        "id": "GGaQUiiqYo9O",
        "colab_type": "text"
      },
      "source": [
        "##Accuracies for unigrams(pres.) "
      ]
    },
    {
      "cell_type": "code",
      "metadata": {
        "colab_type": "code",
        "id": "FeeZMzpIYw5_",
        "outputId": "789e96e2-ff8f-413f-dd26-2fa4f4591343",
        "colab": {
          "base_uri": "https://localhost:8080/",
          "height": 34
        }
      },
      "source": [
        "data=unigrams_presence_vectorization(corpus['document'])"
      ],
      "execution_count": 0,
      "outputs": [
        {
          "output_type": "stream",
          "text": [
            "shape:  (1380, 34989)\n"
          ],
          "name": "stdout"
        }
      ]
    },
    {
      "cell_type": "code",
      "metadata": {
        "colab_type": "code",
        "id": "oR8JfiVGx0Wq",
        "outputId": "0cf30dc4-c390-4453-a21d-76d7de7e506e",
        "colab": {
          "base_uri": "https://localhost:8080/",
          "height": 34
        }
      },
      "source": [
        "scoresNB = cross_val_score(multinomialNaiveBayes, data, target, cv=3)\n",
        "print(\"Accuracy for NB: %0.3f (+/- %0.3f)\" % (scoresNB.mean(), scoresNB.std() * 2))"
      ],
      "execution_count": 0,
      "outputs": [
        {
          "output_type": "stream",
          "text": [
            "Accuracy for NB: 0.810 (+/- 0.041)\n"
          ],
          "name": "stdout"
        }
      ]
    },
    {
      "cell_type": "code",
      "metadata": {
        "colab_type": "code",
        "id": "9phBZP7Jx0Wf",
        "outputId": "3614946d-63e9-42f8-a79f-cbd62f485d7c",
        "colab": {
          "base_uri": "https://localhost:8080/",
          "height": 34
        }
      },
      "source": [
        "scoresMaxEnt = cross_val_score(logReg, data, target, cv=3)\n",
        "print(\"Accuracy for MaxEnt: %0.3f (+/- %0.3f)\" % (scoresMaxEnt.mean(), scoresMaxEnt.std() * 2))"
      ],
      "execution_count": 0,
      "outputs": [
        {
          "output_type": "stream",
          "text": [
            "Accuracy for MaxEnt: 0.838 (+/- 0.011)\n"
          ],
          "name": "stdout"
        }
      ]
    },
    {
      "cell_type": "code",
      "metadata": {
        "colab_type": "code",
        "id": "OtM5qljYx0WX",
        "outputId": "d78fd85c-0814-44bf-bbc5-bcb71e13463d",
        "colab": {
          "base_uri": "https://localhost:8080/",
          "height": 34
        }
      },
      "source": [
        "scoresSVM = cross_val_score(svm, data, target, cv=3)\n",
        "print(\"Accuracy for SVM: %0.3f (+/- %0.3f)\" % (scoresSVM.mean(), scoresSVM.std() * 2))"
      ],
      "execution_count": 0,
      "outputs": [
        {
          "output_type": "stream",
          "text": [
            "Accuracy for SVM: 0.831 (+/- 0.026)\n"
          ],
          "name": "stdout"
        }
      ]
    },
    {
      "cell_type": "code",
      "metadata": {
        "colab_type": "code",
        "id": "gVKBGRLpx_uL",
        "colab": {}
      },
      "source": [
        "unigrams_presence_acc={'Features:' : 'unigrams(pres.)', 'NB' : [scoresNB.mean()], 'MaxEnt': [scoresMaxEnt.mean()], 'SVM' : [scoresSVM.mean()]}"
      ],
      "execution_count": 0,
      "outputs": []
    },
    {
      "cell_type": "code",
      "metadata": {
        "id": "_w_MFrQg9BeS",
        "colab_type": "code",
        "colab": {}
      },
      "source": [
        "unigrams_presence_accDF=pd.DataFrame(unigrams_presence_acc)"
      ],
      "execution_count": 0,
      "outputs": []
    },
    {
      "cell_type": "code",
      "metadata": {
        "colab_type": "code",
        "id": "a06k0Ljkx_uN",
        "colab": {}
      },
      "source": [
        "accuracies=accuracies.append(unigrams_presence_accDF, ignore_index=True)"
      ],
      "execution_count": 0,
      "outputs": []
    },
    {
      "cell_type": "markdown",
      "metadata": {
        "colab_type": "text",
        "id": "tBRjToOfa1FQ"
      },
      "source": [
        "##Accuracies for unigrams and bigrams(pres.) "
      ]
    },
    {
      "cell_type": "code",
      "metadata": {
        "colab_type": "code",
        "id": "p1Mxj_bza1FQ",
        "outputId": "77a37a7a-ccfd-43dc-a5d1-5d8c8720e0bc",
        "colab": {
          "base_uri": "https://localhost:8080/",
          "height": 34
        }
      },
      "source": [
        "data=unigrams_and_bigrams_presence_vectorization(corpus['document'])"
      ],
      "execution_count": 0,
      "outputs": [
        {
          "output_type": "stream",
          "text": [
            "shape:  (1380, 412424)\n"
          ],
          "name": "stdout"
        }
      ]
    },
    {
      "cell_type": "code",
      "metadata": {
        "colab_type": "code",
        "id": "PzaR-5FQYw6F",
        "outputId": "6fcd560f-b8c0-44e3-ac8a-8ab0ebce8e0e",
        "colab": {
          "base_uri": "https://localhost:8080/",
          "height": 34
        }
      },
      "source": [
        "scoresNB = cross_val_score(multinomialNaiveBayes, data, target, cv=3)\n",
        "print(\"Accuracy for NB: %0.3f (+/- %0.3f)\" % (scoresNB.mean(), scoresNB.std() * 2))"
      ],
      "execution_count": 0,
      "outputs": [
        {
          "output_type": "stream",
          "text": [
            "Accuracy for NB: 0.838 (+/- 0.033)\n"
          ],
          "name": "stdout"
        }
      ]
    },
    {
      "cell_type": "code",
      "metadata": {
        "colab_type": "code",
        "id": "z66TSTanYw6I",
        "outputId": "fafe8070-8d65-4f0a-c6b7-fcb3bc73742d",
        "colab": {
          "base_uri": "https://localhost:8080/",
          "height": 34
        }
      },
      "source": [
        "scoresMaxEnt = cross_val_score(logReg, data, target, cv=3)\n",
        "print(\"Accuracy for MaxEnt: %0.3f (+/- %0.3f)\" % (scoresMaxEnt.mean(), scoresMaxEnt.std() * 2))"
      ],
      "execution_count": 0,
      "outputs": [
        {
          "output_type": "stream",
          "text": [
            "Accuracy for MaxEnt: 0.834 (+/- 0.009)\n"
          ],
          "name": "stdout"
        }
      ]
    },
    {
      "cell_type": "code",
      "metadata": {
        "colab_type": "code",
        "id": "GEqqdDXpYw6L",
        "outputId": "2f4513fa-5d2c-46ab-c502-8d5637e5ff21",
        "colab": {
          "base_uri": "https://localhost:8080/",
          "height": 34
        }
      },
      "source": [
        "scoresSVM = cross_val_score(svm, data, target, cv=3)\n",
        "print(\"Accuracy for SVM: %0.3f (+/- %0.3f)\" % (scoresSVM.mean(), scoresSVM.std() * 2))"
      ],
      "execution_count": 0,
      "outputs": [
        {
          "output_type": "stream",
          "text": [
            "Accuracy for SVM: 0.831 (+/- 0.023)\n"
          ],
          "name": "stdout"
        }
      ]
    },
    {
      "cell_type": "code",
      "metadata": {
        "colab_type": "code",
        "id": "vJ1_mYw4yBID",
        "colab": {}
      },
      "source": [
        "unigrams_and_bigrams_presence_acc={'Features:' : 'unigrams and bigrams(pres.) ', 'NB' : [scoresNB.mean()], 'MaxEnt': [scoresMaxEnt.mean()], 'SVM' : [scoresSVM.mean()]}"
      ],
      "execution_count": 0,
      "outputs": []
    },
    {
      "cell_type": "code",
      "metadata": {
        "colab_type": "code",
        "id": "qdE1FFFN9kqj",
        "colab": {}
      },
      "source": [
        "unigrams_and_bigrams_presence_accDF=pd.DataFrame(unigrams_and_bigrams_presence_acc)"
      ],
      "execution_count": 0,
      "outputs": []
    },
    {
      "cell_type": "code",
      "metadata": {
        "colab_type": "code",
        "id": "MDpdDBd49kql",
        "colab": {}
      },
      "source": [
        "accuracies=accuracies.append(unigrams_and_bigrams_presence_accDF, ignore_index=True)"
      ],
      "execution_count": 0,
      "outputs": []
    },
    {
      "cell_type": "markdown",
      "metadata": {
        "colab_type": "text",
        "id": "WwkSGwq4aopK"
      },
      "source": [
        "##Accuracies for bigrams(pres.) "
      ]
    },
    {
      "cell_type": "code",
      "metadata": {
        "colab_type": "code",
        "id": "dOkQyaw4aopL",
        "outputId": "4fcd59f3-2d2f-4a02-a053-b439d5577897",
        "colab": {
          "base_uri": "https://localhost:8080/",
          "height": 34
        }
      },
      "source": [
        "data=bigrams_presence_vectorization(corpus['document'])"
      ],
      "execution_count": 0,
      "outputs": [
        {
          "output_type": "stream",
          "text": [
            "shape:  (1380, 377435)\n"
          ],
          "name": "stdout"
        }
      ]
    },
    {
      "cell_type": "code",
      "metadata": {
        "colab_type": "code",
        "id": "_MX51M-lx4fP",
        "outputId": "94aa8d7a-3bcb-455f-b00e-bdc2d52851f7",
        "colab": {
          "base_uri": "https://localhost:8080/",
          "height": 34
        }
      },
      "source": [
        "scoresNB = cross_val_score(multinomialNaiveBayes, data, target, cv=3)\n",
        "print(\"Accuracy for NB: %0.3f (+/- %0.3f)\" % (scoresNB.mean(), scoresNB.std() * 2))"
      ],
      "execution_count": 0,
      "outputs": [
        {
          "output_type": "stream",
          "text": [
            "Accuracy for NB: 0.825 (+/- 0.009)\n"
          ],
          "name": "stdout"
        }
      ]
    },
    {
      "cell_type": "code",
      "metadata": {
        "colab_type": "code",
        "id": "ssXJzDggx4fR",
        "outputId": "4034df14-099e-40e9-adbc-9cb4fc6f3aca",
        "colab": {
          "base_uri": "https://localhost:8080/",
          "height": 34
        }
      },
      "source": [
        "scoresMaxEnt = cross_val_score(logReg, data, target, cv=3)\n",
        "print(\"Accuracy for MaxEnt: %0.3f (+/- %0.3f)\" % (scoresMaxEnt.mean(), scoresMaxEnt.std() * 2))"
      ],
      "execution_count": 0,
      "outputs": [
        {
          "output_type": "stream",
          "text": [
            "Accuracy for MaxEnt: 0.804 (+/- 0.020)\n"
          ],
          "name": "stdout"
        }
      ]
    },
    {
      "cell_type": "code",
      "metadata": {
        "colab_type": "code",
        "id": "09d0J1epx4fU",
        "outputId": "f8fea2a0-3fd8-4458-8f57-dca70a459654",
        "colab": {
          "base_uri": "https://localhost:8080/",
          "height": 34
        }
      },
      "source": [
        "scoresSVM = cross_val_score(svm, data, target, cv=3)\n",
        "print(\"Accuracy for SVM: %0.3f (+/- %0.3f)\" % (scoresSVM.mean(), scoresSVM.std() * 2))"
      ],
      "execution_count": 0,
      "outputs": [
        {
          "output_type": "stream",
          "text": [
            "Accuracy for SVM: 0.801 (+/- 0.014)\n"
          ],
          "name": "stdout"
        }
      ]
    },
    {
      "cell_type": "code",
      "metadata": {
        "colab_type": "code",
        "id": "VQ_SMJceyCAE",
        "colab": {}
      },
      "source": [
        "bigrams_presence_acc={'Features:' : 'bigrams(pres.)', 'NB' : [scoresNB.mean()], 'MaxEnt': [scoresMaxEnt.mean()], 'SVM' : [scoresSVM.mean()]}"
      ],
      "execution_count": 0,
      "outputs": []
    },
    {
      "cell_type": "code",
      "metadata": {
        "colab_type": "code",
        "id": "LVMRVCrD9niL",
        "colab": {}
      },
      "source": [
        "bigrams_presence_accDF=pd.DataFrame(bigrams_presence_acc)"
      ],
      "execution_count": 0,
      "outputs": []
    },
    {
      "cell_type": "code",
      "metadata": {
        "colab_type": "code",
        "id": "NgH9zFV-9niM",
        "colab": {}
      },
      "source": [
        "accuracies=accuracies.append(bigrams_presence_accDF, ignore_index=True)"
      ],
      "execution_count": 0,
      "outputs": []
    },
    {
      "cell_type": "markdown",
      "metadata": {
        "colab_type": "text",
        "id": "y58sEhgtbMLO"
      },
      "source": [
        "##Accuracies for unigrams with POS tagging(pres.) "
      ]
    },
    {
      "cell_type": "code",
      "metadata": {
        "colab_type": "code",
        "id": "c3ugbOIQbMLO",
        "outputId": "219ed75f-8510-4664-957a-73b45028f849",
        "colab": {
          "base_uri": "https://localhost:8080/",
          "height": 34
        }
      },
      "source": [
        "data=POStagged_unigrams_presence_vectorization(corpus['document'])"
      ],
      "execution_count": 0,
      "outputs": [
        {
          "output_type": "stream",
          "text": [
            "shape:  (1380, 57378)\n"
          ],
          "name": "stdout"
        }
      ]
    },
    {
      "cell_type": "code",
      "metadata": {
        "colab_type": "code",
        "id": "TRsbr13Ux6DQ",
        "outputId": "369b22b0-4ac0-41fc-b679-8fae26faa6b9",
        "colab": {
          "base_uri": "https://localhost:8080/",
          "height": 34
        }
      },
      "source": [
        "scoresNB = cross_val_score(multinomialNaiveBayes, data, target, cv=3)\n",
        "print(\"Accuracy for NB: %0.3f (+/- %0.3f)\" % (scoresNB.mean(), scoresNB.std() * 2))"
      ],
      "execution_count": 0,
      "outputs": [
        {
          "output_type": "stream",
          "text": [
            "Accuracy for NB: 0.811 (+/- 0.039)\n"
          ],
          "name": "stdout"
        }
      ]
    },
    {
      "cell_type": "code",
      "metadata": {
        "colab_type": "code",
        "id": "yekTwQOJx6DS",
        "outputId": "b4db2888-a4ac-46b3-f96e-d8e612d25206",
        "colab": {
          "base_uri": "https://localhost:8080/",
          "height": 34
        }
      },
      "source": [
        "scoresMaxEnt = cross_val_score(logReg, data, target, cv=3)\n",
        "print(\"Accuracy for MaxEnt: %0.3f (+/- %0.3f)\" % (scoresMaxEnt.mean(), scoresMaxEnt.std() * 2))"
      ],
      "execution_count": 0,
      "outputs": [
        {
          "output_type": "stream",
          "text": [
            "Accuracy for MaxEnt: 0.831 (+/- 0.024)\n"
          ],
          "name": "stdout"
        }
      ]
    },
    {
      "cell_type": "code",
      "metadata": {
        "colab_type": "code",
        "id": "K7RuUJHxx6DV",
        "outputId": "c196744b-ef85-45de-b7e9-ed0bb04a0588",
        "colab": {
          "base_uri": "https://localhost:8080/",
          "height": 34
        }
      },
      "source": [
        "scoresSVM = cross_val_score(svm, data, target, cv=3)\n",
        "print(\"Accuracy for SVM: %0.3f (+/- %0.3f)\" % (scoresSVM.mean(), scoresSVM.std() * 2))"
      ],
      "execution_count": 0,
      "outputs": [
        {
          "output_type": "stream",
          "text": [
            "Accuracy for SVM: 0.819 (+/- 0.030)\n"
          ],
          "name": "stdout"
        }
      ]
    },
    {
      "cell_type": "code",
      "metadata": {
        "colab_type": "code",
        "id": "i8TETXbXyCsm",
        "colab": {}
      },
      "source": [
        "POStagged_unigrams_presence_acc={'Features:' : 'unigrams+POS', 'NB' : [scoresNB.mean()], 'MaxEnt': [scoresMaxEnt.mean()], 'SVM' : [scoresSVM.mean()]}"
      ],
      "execution_count": 0,
      "outputs": []
    },
    {
      "cell_type": "code",
      "metadata": {
        "colab_type": "code",
        "id": "hyuPi-KX9pch",
        "colab": {}
      },
      "source": [
        "POStagged_unigrams_presence_accDF=pd.DataFrame(POStagged_unigrams_presence_acc)"
      ],
      "execution_count": 0,
      "outputs": []
    },
    {
      "cell_type": "code",
      "metadata": {
        "colab_type": "code",
        "id": "DMPa5UIQ9pcl",
        "colab": {}
      },
      "source": [
        "accuracies=accuracies.append(POStagged_unigrams_presence_accDF, ignore_index=True)"
      ],
      "execution_count": 0,
      "outputs": []
    },
    {
      "cell_type": "markdown",
      "metadata": {
        "colab_type": "text",
        "id": "aUhV_baMbatV"
      },
      "source": [
        "##Accuracies for adjectives(pres.) "
      ]
    },
    {
      "cell_type": "code",
      "metadata": {
        "colab_type": "code",
        "id": "6N-v24_AbatV",
        "outputId": "84b270ed-dd64-41e7-b494-e32d58b440b9",
        "colab": {
          "base_uri": "https://localhost:8080/",
          "height": 34
        }
      },
      "source": [
        "data=POStagged_ajectives_presence_vectorization(corpus['document'])"
      ],
      "execution_count": 0,
      "outputs": [
        {
          "output_type": "stream",
          "text": [
            "shape:  (1380, 13101)\n"
          ],
          "name": "stdout"
        }
      ]
    },
    {
      "cell_type": "code",
      "metadata": {
        "colab_type": "code",
        "id": "aWg2N1Axx7dE",
        "outputId": "32917252-b183-4aec-d2b6-edba7ec2368f",
        "colab": {
          "base_uri": "https://localhost:8080/",
          "height": 34
        }
      },
      "source": [
        "scoresNB = cross_val_score(multinomialNaiveBayes, data, target, cv=3)\n",
        "print(\"Accuracy for NB: %0.3f (+/- %0.3f)\" % (scoresNB.mean(), scoresNB.std() * 2))"
      ],
      "execution_count": 0,
      "outputs": [
        {
          "output_type": "stream",
          "text": [
            "Accuracy for NB: 0.785 (+/- 0.028)\n"
          ],
          "name": "stdout"
        }
      ]
    },
    {
      "cell_type": "code",
      "metadata": {
        "colab_type": "code",
        "id": "3ph6btDxx7dG",
        "outputId": "9c572531-adcc-44c8-a325-6f18cd2b5405",
        "colab": {
          "base_uri": "https://localhost:8080/",
          "height": 34
        }
      },
      "source": [
        "scoresMaxEnt = cross_val_score(logReg, data, target, cv=3)\n",
        "print(\"Accuracy for MaxEnt: %0.3f (+/- %0.3f)\" % (scoresMaxEnt.mean(), scoresMaxEnt.std() * 2))"
      ],
      "execution_count": 0,
      "outputs": [
        {
          "output_type": "stream",
          "text": [
            "Accuracy for MaxEnt: 0.772 (+/- 0.020)\n"
          ],
          "name": "stdout"
        }
      ]
    },
    {
      "cell_type": "code",
      "metadata": {
        "colab_type": "code",
        "id": "9ZOaRnsjx7dI",
        "outputId": "9b2cb5ed-0ab5-4c12-a179-113353e1cdeb",
        "colab": {
          "base_uri": "https://localhost:8080/",
          "height": 34
        }
      },
      "source": [
        "scoresSVM = cross_val_score(svm, data, target, cv=3)\n",
        "print(\"Accuracy for SVM: %0.3f (+/- %0.3f)\" % (scoresSVM.mean(), scoresSVM.std() * 2))"
      ],
      "execution_count": 0,
      "outputs": [
        {
          "output_type": "stream",
          "text": [
            "Accuracy for SVM: 0.743 (+/- 0.026)\n"
          ],
          "name": "stdout"
        }
      ]
    },
    {
      "cell_type": "code",
      "metadata": {
        "colab_type": "code",
        "id": "WuayRGbhyDS5",
        "colab": {}
      },
      "source": [
        "POStagged_ajectives_presence_acc={'Features:' : 'adjectives', 'NB' : [scoresNB.mean()], 'MaxEnt': [scoresMaxEnt.mean()], 'SVM' : [scoresSVM.mean()]}"
      ],
      "execution_count": 0,
      "outputs": []
    },
    {
      "cell_type": "code",
      "metadata": {
        "colab_type": "code",
        "id": "ndR3OV3b9tAW",
        "colab": {}
      },
      "source": [
        "POStagged_ajectives_presence_accDF=pd.DataFrame(POStagged_ajectives_presence_acc)"
      ],
      "execution_count": 0,
      "outputs": []
    },
    {
      "cell_type": "code",
      "metadata": {
        "colab_type": "code",
        "id": "MnsP_M3v9tAY",
        "colab": {}
      },
      "source": [
        "accuracies=accuracies.append(POStagged_ajectives_presence_accDF, ignore_index=True)"
      ],
      "execution_count": 0,
      "outputs": []
    },
    {
      "cell_type": "markdown",
      "metadata": {
        "id": "C3Hf7M1r3isG",
        "colab_type": "text"
      },
      "source": [
        "## [Results]"
      ]
    },
    {
      "cell_type": "code",
      "metadata": {
        "id": "CSQA8M04J0cM",
        "colab_type": "code",
        "colab": {}
      },
      "source": [
        "pangs_acc=[{'Features:' : 'unigrams(freq.)', 'NB' : [79.0], 'MaxEnt': [np.nan], 'SVM' : [73.0]},\n",
        "           {'Features:' : 'unigrams(pres.)', 'NB' : [81.0], 'MaxEnt': [80.2], 'SVM' : [82.9]},\n",
        "           {'Features:' : 'unigrams and bigrams', 'NB' : [80.7], 'MaxEnt': [80.7], 'SVM' : [82.8]},\n",
        "           {'Features:' : 'bigrams', 'NB' : [77.3], 'MaxEnt': [77.5], 'SVM' : [76.5]},\n",
        "           {'Features:' : 'unigrams+POS', 'NB' : [81.3], 'MaxEnt': [80.3], 'SVM' : [82.0]},\n",
        "           {'Features:' : 'adjectives', 'NB' : [76.6], 'MaxEnt': [77.6], 'SVM' : [75.3]}]\n",
        "\n",
        "pangsDF = pd.DataFrame(pangs_acc, columns=['Features:', 'NB', 'MaxEnt','SVM'])"
      ],
      "execution_count": 0,
      "outputs": []
    },
    {
      "cell_type": "code",
      "metadata": {
        "id": "GiRH0DTd3u4N",
        "colab_type": "code",
        "outputId": "83df7481-f43e-4620-9447-789dea609f2b",
        "colab": {
          "base_uri": "https://localhost:8080/",
          "height": 134
        }
      },
      "source": [
        "#my results\n",
        "accuracies.describe"
      ],
      "execution_count": 0,
      "outputs": [
        {
          "output_type": "execute_result",
          "data": {
            "text/plain": [
              "<bound method NDFrame.describe of                       Features:        NB    MaxEnt       SVM\n",
              "0               unigrams(freq.)  0.790580       NaN  0.794203\n",
              "1               unigrams(pres.)  0.810145  0.838406  0.831159\n",
              "2  unigrams and bigrams(pres.)   0.838406  0.834058  0.831159\n",
              "3                bigrams(pres.)  0.824638  0.803623  0.800725\n",
              "4                  unigrams+POS  0.810870  0.831159  0.818841\n",
              "5                    adjectives  0.784783  0.771739  0.743478>"
            ]
          },
          "metadata": {
            "tags": []
          },
          "execution_count": 116
        }
      ]
    },
    {
      "cell_type": "code",
      "metadata": {
        "id": "0D0MPM5tL4vR",
        "colab_type": "code",
        "outputId": "0d4144ae-ad0d-4c57-c308-6f85e6a410dd",
        "colab": {
          "base_uri": "https://localhost:8080/",
          "height": 134
        }
      },
      "source": [
        "#pangs results\n",
        "pangsDF.describe"
      ],
      "execution_count": 0,
      "outputs": [
        {
          "output_type": "execute_result",
          "data": {
            "text/plain": [
              "<bound method NDFrame.describe of               Features:      NB  MaxEnt     SVM\n",
              "0       unigrams(freq.)  [79.0]   [nan]  [73.0]\n",
              "1       unigrams(pres.)  [81.0]  [80.2]  [82.9]\n",
              "2  unigrams and bigrams  [80.7]  [80.7]  [82.8]\n",
              "3               bigrams  [77.3]  [77.5]  [76.5]\n",
              "4          unigrams+POS  [81.3]  [80.3]  [82.0]\n",
              "5            adjectives  [76.6]  [77.6]  [75.3]>"
            ]
          },
          "metadata": {
            "tags": []
          },
          "execution_count": 117
        }
      ]
    },
    {
      "cell_type": "markdown",
      "metadata": {
        "id": "plZ38XRC3zJu",
        "colab_type": "text"
      },
      "source": [
        "## [Final Words]\n",
        "The results produced via modern machine learning techniques are slightly better and differences between accuracies for different methods are smaller. Also using more folds give better performance but I decided to stay with three folds to compare results from the paper.\n",
        "In this case, we can see that binary vectors works better but also we see that intuitive approaches like covering just adjectives bring much worse results in sentiment classification. \n",
        "In this paper, I cover mainly the presence of features in the document, but we have also techniques like TF-IDF which covers term weights or word2vec which covers words context.\n",
        "In the future, I also intend to check these approaches."
      ]
    },
    {
      "cell_type": "markdown",
      "metadata": {
        "id": "Ng8pGkkw8XB3",
        "colab_type": "text"
      },
      "source": [
        "## [References]\n",
        "[Pang, Lee, Vaithyanathan. Thumbs up?  Sentiment Classification using Machine Learning Techniques, 2002.\n",
        "](http://www.cs.cornell.edu/home/llee/papers/sentiment.pdf)"
      ]
    }
  ]
}